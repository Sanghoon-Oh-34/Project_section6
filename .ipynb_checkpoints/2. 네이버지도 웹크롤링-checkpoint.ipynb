{
 "cells": [
  {
   "cell_type": "markdown",
   "id": "e4b5a1b8-a51d-4198-9846-5d173af3a04c",
   "metadata": {
    "id": "e4b5a1b8-a51d-4198-9846-5d173af3a04c"
   },
   "source": [
    "## 1. 수도권 영화상영관정보(요약) 불러오기"
   ]
  },
  {
   "cell_type": "code",
   "execution_count": 1,
   "id": "0f73cc81-a992-4d1a-a9d7-b99bce35b709",
   "metadata": {
    "executionInfo": {
     "elapsed": 590,
     "status": "ok",
     "timestamp": 1634375594185,
     "user": {
      "displayName": "Sang hoon Oh",
      "photoUrl": "https://lh3.googleusercontent.com/a-/AOh14Ghn6EzdEh67N_EmPhGNy1mIY9u9fWl87BCkZkse2w=s64",
      "userId": "04589800152342474386"
     },
     "user_tz": -540
    },
    "id": "0f73cc81-a992-4d1a-a9d7-b99bce35b709"
   },
   "outputs": [],
   "source": [
    "import pandas as pd\n",
    "import numpy as np"
   ]
  },
  {
   "cell_type": "code",
   "execution_count": 2,
   "id": "adf6e6d1-1322-41a0-b724-48293e0e85ba",
   "metadata": {
    "id": "adf6e6d1-1322-41a0-b724-48293e0e85ba"
   },
   "outputs": [],
   "source": [
    "df = pd.read_csv('Datasets/수도권 영화상영관정보(선별)_2021-10-14.csv', encoding='euc-kr', index_col=0)"
   ]
  },
  {
   "cell_type": "code",
   "execution_count": 3,
   "id": "a475ee3f-eb11-48bb-9d1b-6daf7b14a358",
   "metadata": {
    "id": "a475ee3f-eb11-48bb-9d1b-6daf7b14a358",
    "outputId": "79cf3c1b-a771-463f-a695-03afc52b181e"
   },
   "outputs": [
    {
     "data": {
      "text/html": [
       "<div>\n",
       "<style scoped>\n",
       "    .dataframe tbody tr th:only-of-type {\n",
       "        vertical-align: middle;\n",
       "    }\n",
       "\n",
       "    .dataframe tbody tr th {\n",
       "        vertical-align: top;\n",
       "    }\n",
       "\n",
       "    .dataframe thead th {\n",
       "        text-align: right;\n",
       "    }\n",
       "</style>\n",
       "<table border=\"1\" class=\"dataframe\">\n",
       "  <thead>\n",
       "    <tr style=\"text-align: right;\">\n",
       "      <th></th>\n",
       "      <th>광역단체</th>\n",
       "      <th>기초단체</th>\n",
       "      <th>영화상영관명</th>\n",
       "      <th>전송사업자명</th>\n",
       "    </tr>\n",
       "  </thead>\n",
       "  <tbody>\n",
       "    <tr>\n",
       "      <th>0</th>\n",
       "      <td>서울시</td>\n",
       "      <td>노원구</td>\n",
       "      <td>롯데시네마 노원수락산역</td>\n",
       "      <td>롯데컬처웍스(주)롯데시네마</td>\n",
       "    </tr>\n",
       "    <tr>\n",
       "      <th>1</th>\n",
       "      <td>서울시</td>\n",
       "      <td>강남구</td>\n",
       "      <td>메가박스 코엑스</td>\n",
       "      <td>메가박스(주)</td>\n",
       "    </tr>\n",
       "    <tr>\n",
       "      <th>2</th>\n",
       "      <td>서울시</td>\n",
       "      <td>강남구</td>\n",
       "      <td>이봄씨어터</td>\n",
       "      <td>인터파크(주)</td>\n",
       "    </tr>\n",
       "    <tr>\n",
       "      <th>3</th>\n",
       "      <td>서울시</td>\n",
       "      <td>서대문구</td>\n",
       "      <td>아트하우스모모</td>\n",
       "      <td>(주)디트릭스</td>\n",
       "    </tr>\n",
       "    <tr>\n",
       "      <th>4</th>\n",
       "      <td>서울시</td>\n",
       "      <td>성북구</td>\n",
       "      <td>CGV 성신여대입구</td>\n",
       "      <td>CJ올리브네트웍스(주)</td>\n",
       "    </tr>\n",
       "  </tbody>\n",
       "</table>\n",
       "</div>"
      ],
      "text/plain": [
       "  광역단체  기초단체        영화상영관명          전송사업자명\n",
       "0  서울시   노원구  롯데시네마 노원수락산역  롯데컬처웍스(주)롯데시네마\n",
       "1  서울시   강남구      메가박스 코엑스         메가박스(주)\n",
       "2  서울시   강남구         이봄씨어터         인터파크(주)\n",
       "3  서울시  서대문구       아트하우스모모         (주)디트릭스\n",
       "4  서울시   성북구    CGV 성신여대입구    CJ올리브네트웍스(주)"
      ]
     },
     "execution_count": 3,
     "metadata": {},
     "output_type": "execute_result"
    }
   ],
   "source": [
    "df.head()"
   ]
  },
  {
   "cell_type": "markdown",
   "id": "8feb9db2-3372-4ee1-9d1e-605ea9e16129",
   "metadata": {
    "id": "8feb9db2-3372-4ee1-9d1e-605ea9e16129"
   },
   "source": [
    "## 2. 네이버지도 상세페이지 URL 수집하기"
   ]
  },
  {
   "cell_type": "code",
   "execution_count": 4,
   "id": "382cf531-bef6-4e3b-b17a-b9b96480c727",
   "metadata": {
    "id": "382cf531-bef6-4e3b-b17a-b9b96480c727"
   },
   "outputs": [],
   "source": [
    "from selenium import webdriver\n",
    "from selenium.webdriver.common.keys import Keys\n",
    "from tqdm import tqdm\n",
    "import time"
   ]
  },
  {
   "cell_type": "code",
   "execution_count": 5,
   "id": "6b206af2-1f32-4390-b9fd-47fd9161dd45",
   "metadata": {
    "id": "6b206af2-1f32-4390-b9fd-47fd9161dd45"
   },
   "outputs": [],
   "source": [
    "df['data-cid'] = ''"
   ]
  },
  {
   "cell_type": "code",
   "execution_count": 6,
   "id": "a6b583e7-0203-4346-962b-0f283d76efdc",
   "metadata": {
    "id": "a6b583e7-0203-4346-962b-0f283d76efdc",
    "outputId": "ef1b1015-db26-47d3-a074-786d889a7f7a"
   },
   "outputs": [
    {
     "data": {
      "text/html": [
       "<div>\n",
       "<style scoped>\n",
       "    .dataframe tbody tr th:only-of-type {\n",
       "        vertical-align: middle;\n",
       "    }\n",
       "\n",
       "    .dataframe tbody tr th {\n",
       "        vertical-align: top;\n",
       "    }\n",
       "\n",
       "    .dataframe thead th {\n",
       "        text-align: right;\n",
       "    }\n",
       "</style>\n",
       "<table border=\"1\" class=\"dataframe\">\n",
       "  <thead>\n",
       "    <tr style=\"text-align: right;\">\n",
       "      <th></th>\n",
       "      <th>광역단체</th>\n",
       "      <th>기초단체</th>\n",
       "      <th>영화상영관명</th>\n",
       "      <th>전송사업자명</th>\n",
       "      <th>data-cid</th>\n",
       "    </tr>\n",
       "  </thead>\n",
       "  <tbody>\n",
       "    <tr>\n",
       "      <th>0</th>\n",
       "      <td>서울시</td>\n",
       "      <td>노원구</td>\n",
       "      <td>롯데시네마 노원수락산역</td>\n",
       "      <td>롯데컬처웍스(주)롯데시네마</td>\n",
       "      <td></td>\n",
       "    </tr>\n",
       "    <tr>\n",
       "      <th>1</th>\n",
       "      <td>서울시</td>\n",
       "      <td>강남구</td>\n",
       "      <td>메가박스 코엑스</td>\n",
       "      <td>메가박스(주)</td>\n",
       "      <td></td>\n",
       "    </tr>\n",
       "    <tr>\n",
       "      <th>2</th>\n",
       "      <td>서울시</td>\n",
       "      <td>강남구</td>\n",
       "      <td>이봄씨어터</td>\n",
       "      <td>인터파크(주)</td>\n",
       "      <td></td>\n",
       "    </tr>\n",
       "    <tr>\n",
       "      <th>3</th>\n",
       "      <td>서울시</td>\n",
       "      <td>서대문구</td>\n",
       "      <td>아트하우스모모</td>\n",
       "      <td>(주)디트릭스</td>\n",
       "      <td></td>\n",
       "    </tr>\n",
       "    <tr>\n",
       "      <th>4</th>\n",
       "      <td>서울시</td>\n",
       "      <td>성북구</td>\n",
       "      <td>CGV 성신여대입구</td>\n",
       "      <td>CJ올리브네트웍스(주)</td>\n",
       "      <td></td>\n",
       "    </tr>\n",
       "  </tbody>\n",
       "</table>\n",
       "</div>"
      ],
      "text/plain": [
       "  광역단체  기초단체        영화상영관명          전송사업자명 data-cid\n",
       "0  서울시   노원구  롯데시네마 노원수락산역  롯데컬처웍스(주)롯데시네마         \n",
       "1  서울시   강남구      메가박스 코엑스         메가박스(주)         \n",
       "2  서울시   강남구         이봄씨어터         인터파크(주)         \n",
       "3  서울시  서대문구       아트하우스모모         (주)디트릭스         \n",
       "4  서울시   성북구    CGV 성신여대입구    CJ올리브네트웍스(주)         "
      ]
     },
     "execution_count": 6,
     "metadata": {},
     "output_type": "execute_result"
    }
   ],
   "source": [
    "df.head()"
   ]
  },
  {
   "cell_type": "markdown",
   "id": "3f0a45ec-8f9f-4eff-bc22-c67c8b6420e6",
   "metadata": {},
   "source": [
    "### 1) 1차 수집"
   ]
  },
  {
   "cell_type": "code",
   "execution_count": 7,
   "id": "fb504e54-42a3-4e63-b86f-ecb2bc7c1e01",
   "metadata": {
    "id": "fb504e54-42a3-4e63-b86f-ecb2bc7c1e01",
    "outputId": "dd21ca15-dfbd-4288-83be-87fa631d23d0"
   },
   "outputs": [
    {
     "name": "stderr",
     "output_type": "stream",
     "text": [
      " 18%|█▊        | 43/243 [02:37<12:15,  3.68s/it]"
     ]
    },
    {
     "name": "stdout",
     "output_type": "stream",
     "text": [
      "43 에무 시네마 앤 카페\n",
      "Message: no such element: Unable to locate element: {\"method\":\"css selector\",\"selector\":\"#ct > div.search_listview._content._ctList > ul > li:nth-child(1) > div.item_info > a.a_item.a_item_distance._linkSiteview\"}\n",
      "  (Session info: chrome=94.0.4606.81)\n",
      "\n"
     ]
    },
    {
     "name": "stderr",
     "output_type": "stream",
     "text": [
      " 22%|██▏       | 54/243 [03:19<11:34,  3.67s/it]"
     ]
    },
    {
     "name": "stdout",
     "output_type": "stream",
     "text": [
      "54 롯데시네마 은평(롯데몰)\n",
      "Message: no such element: Unable to locate element: {\"method\":\"css selector\",\"selector\":\"#ct > div.search_listview._content._ctList > ul > li:nth-child(1) > div.item_info > a.a_item.a_item_distance._linkSiteview\"}\n",
      "  (Session info: chrome=94.0.4606.81)\n",
      "\n"
     ]
    },
    {
     "name": "stderr",
     "output_type": "stream",
     "text": [
      " 23%|██▎       | 56/243 [03:27<12:04,  3.88s/it]"
     ]
    },
    {
     "name": "stdout",
     "output_type": "stream",
     "text": [
      "56 롯데시네마 월드타워_샤롯데\n",
      "Message: no such element: Unable to locate element: {\"method\":\"css selector\",\"selector\":\"#ct > div.search_listview._content._ctList > ul > li:nth-child(1) > div.item_info > a.a_item.a_item_distance._linkSiteview\"}\n",
      "  (Session info: chrome=94.0.4606.81)\n",
      "\n"
     ]
    },
    {
     "name": "stderr",
     "output_type": "stream",
     "text": [
      " 32%|███▏      | 78/243 [04:48<10:03,  3.66s/it]"
     ]
    },
    {
     "name": "stdout",
     "output_type": "stream",
     "text": [
      "78 메가박스 EOE4(남산자동차극장)\n",
      "Message: no such element: Unable to locate element: {\"method\":\"css selector\",\"selector\":\"#ct > div.search_listview._content._ctList > ul > li:nth-child(1) > div.item_info > a.a_item.a_item_distance._linkSiteview\"}\n",
      "  (Session info: chrome=94.0.4606.81)\n",
      "\n"
     ]
    },
    {
     "name": "stderr",
     "output_type": "stream",
     "text": [
      " 37%|███▋      | 90/243 [05:33<09:21,  3.67s/it]"
     ]
    },
    {
     "name": "stdout",
     "output_type": "stream",
     "text": [
      "90 롯데시네마 김포공항_샤롯데\n",
      "Message: no such element: Unable to locate element: {\"method\":\"css selector\",\"selector\":\"#ct > div.search_listview._content._ctList > ul > li:nth-child(1) > div.item_info > a.a_item.a_item_distance._linkSiteview\"}\n",
      "  (Session info: chrome=94.0.4606.81)\n",
      "\n"
     ]
    },
    {
     "name": "stderr",
     "output_type": "stream",
     "text": [
      " 37%|███▋      | 91/243 [05:38<10:04,  3.97s/it]"
     ]
    },
    {
     "name": "stdout",
     "output_type": "stream",
     "text": [
      "91 롯데시네마 에비뉴엘(명동)_샤롯데\n",
      "Message: no such element: Unable to locate element: {\"method\":\"css selector\",\"selector\":\"#ct > div.search_listview._content._ctList > ul > li:nth-child(1) > div.item_info > a.a_item.a_item_distance._linkSiteview\"}\n",
      "  (Session info: chrome=94.0.4606.81)\n",
      "\n"
     ]
    },
    {
     "name": "stderr",
     "output_type": "stream",
     "text": [
      " 40%|███▉      | 96/243 [05:57<09:15,  3.78s/it]"
     ]
    },
    {
     "name": "stdout",
     "output_type": "stream",
     "text": [
      "96 허리우드클래식\n",
      "Message: no such element: Unable to locate element: {\"method\":\"css selector\",\"selector\":\"#ct > div.search_listview._content._ctList > ul > li:nth-child(1) > div.item_info > a.a_item.a_item_distance._linkSiteview\"}\n",
      "  (Session info: chrome=94.0.4606.81)\n",
      "\n"
     ]
    },
    {
     "name": "stderr",
     "output_type": "stream",
     "text": [
      " 42%|████▏     | 102/243 [06:20<08:42,  3.71s/it]"
     ]
    },
    {
     "name": "stdout",
     "output_type": "stream",
     "text": [
      "102 CGV DRIVE IN 곤지암\n",
      "Message: no such element: Unable to locate element: {\"method\":\"css selector\",\"selector\":\"#ct > div.search_listview._content._ctList > ul > li:nth-child(1) > div.item_info > a.a_item.a_item_distance._linkSiteview\"}\n",
      "  (Session info: chrome=94.0.4606.81)\n",
      "\n"
     ]
    },
    {
     "name": "stderr",
     "output_type": "stream",
     "text": [
      " 42%|████▏     | 103/243 [06:25<09:18,  3.99s/it]"
     ]
    },
    {
     "name": "stdout",
     "output_type": "stream",
     "text": [
      "103 롯데시네마 동탄_샤롯데\n",
      "Message: no such element: Unable to locate element: {\"method\":\"css selector\",\"selector\":\"#ct > div.search_listview._content._ctList > ul > li:nth-child(1) > div.item_info > a.a_item.a_item_distance._linkSiteview\"}\n",
      "  (Session info: chrome=94.0.4606.81)\n",
      "\n"
     ]
    },
    {
     "name": "stderr",
     "output_type": "stream",
     "text": [
      " 49%|████▉     | 120/243 [07:28<07:29,  3.65s/it]"
     ]
    },
    {
     "name": "stdout",
     "output_type": "stream",
     "text": [
      "120 롯데시네마 안양(안양역)\n",
      "Message: no such element: Unable to locate element: {\"method\":\"css selector\",\"selector\":\"#ct > div.search_listview._content._ctList > ul > li:nth-child(1) > div.item_info > a.a_item.a_item_distance._linkSiteview\"}\n",
      "  (Session info: chrome=94.0.4606.81)\n",
      "\n"
     ]
    },
    {
     "name": "stderr",
     "output_type": "stream",
     "text": [
      " 70%|██████▉   | 170/243 [10:32<04:26,  3.65s/it]"
     ]
    },
    {
     "name": "stdout",
     "output_type": "stream",
     "text": [
      "170 롯데시네마 안산(롯데마트)_Charlotte관\n",
      "Message: no such element: Unable to locate element: {\"method\":\"css selector\",\"selector\":\"#ct > div.search_listview._content._ctList > ul > li:nth-child(1) > div.item_info > a.a_item.a_item_distance._linkSiteview\"}\n",
      "  (Session info: chrome=94.0.4606.81)\n",
      "\n"
     ]
    },
    {
     "name": "stderr",
     "output_type": "stream",
     "text": [
      " 71%|███████   | 172/243 [10:40<04:34,  3.87s/it]"
     ]
    },
    {
     "name": "stdout",
     "output_type": "stream",
     "text": [
      "172 롯데시네마 부천(신중동역)\n",
      "Message: no such element: Unable to locate element: {\"method\":\"css selector\",\"selector\":\"#ct > div.search_listview._content._ctList > ul > li:nth-child(1) > div.item_info > a.a_item.a_item_distance._linkSiteview\"}\n",
      "  (Session info: chrome=94.0.4606.81)\n",
      "\n"
     ]
    },
    {
     "name": "stderr",
     "output_type": "stream",
     "text": [
      " 71%|███████   | 173/243 [10:45<04:47,  4.11s/it]"
     ]
    },
    {
     "name": "stdout",
     "output_type": "stream",
     "text": [
      "173 롯데시네마 평촌(범계역)_Charlotte관\n",
      "Message: no such element: Unable to locate element: {\"method\":\"css selector\",\"selector\":\"#ct > div.search_listview._content._ctList > ul > li:nth-child(1) > div.item_info > a.a_item.a_item_distance._linkSiteview\"}\n",
      "  (Session info: chrome=94.0.4606.81)\n",
      "\n"
     ]
    },
    {
     "name": "stderr",
     "output_type": "stream",
     "text": [
      " 95%|█████████▌| 232/243 [14:21<00:40,  3.65s/it]"
     ]
    },
    {
     "name": "stdout",
     "output_type": "stream",
     "text": [
      "232 화성시문화재단 모두누림센터 누림아트홀\n",
      "Message: no such element: Unable to locate element: {\"method\":\"css selector\",\"selector\":\"#ct > div.search_listview._content._ctList > ul > li:nth-child(1) > div.item_info > a.a_item.a_item_distance._linkSiteview\"}\n",
      "  (Session info: chrome=94.0.4606.81)\n",
      "\n"
     ]
    },
    {
     "name": "stderr",
     "output_type": "stream",
     "text": [
      " 97%|█████████▋| 235/243 [14:33<00:30,  3.81s/it]"
     ]
    },
    {
     "name": "stdout",
     "output_type": "stream",
     "text": [
      "235 동광극장(구 문화극장3관)\n",
      "Message: no such element: Unable to locate element: {\"method\":\"css selector\",\"selector\":\"#ct > div.search_listview._content._ctList > ul > li:nth-child(1) > div.item_info > a.a_item.a_item_distance._linkSiteview\"}\n",
      "  (Session info: chrome=94.0.4606.81)\n",
      "\n"
     ]
    },
    {
     "name": "stderr",
     "output_type": "stream",
     "text": [
      " 98%|█████████▊| 237/243 [14:42<00:23,  3.97s/it]"
     ]
    },
    {
     "name": "stdout",
     "output_type": "stream",
     "text": [
      "237 파랑새자동차극장\n",
      "Message: no such element: Unable to locate element: {\"method\":\"css selector\",\"selector\":\"#ct > div.search_listview._content._ctList > ul > li:nth-child(1) > div.item_info > a.a_item.a_item_distance._linkSiteview\"}\n",
      "  (Session info: chrome=94.0.4606.81)\n",
      "\n"
     ]
    },
    {
     "name": "stderr",
     "output_type": "stream",
     "text": [
      "100%|██████████| 243/243 [15:04<00:00,  3.72s/it]\n"
     ]
    }
   ],
   "source": [
    "path = \"Download\\chromedriver_win32\\chromedriver.exe\"\n",
    "driver = webdriver.Chrome(path)\n",
    "\n",
    "for i, keyword in enumerate(tqdm(df['영화상영관명'].tolist())):\n",
    "    \n",
    "    try:\n",
    "        naver_map_search_url = f\"https://m.map.naver.com/search2/search.naver?query={keyword}&sm=hty&style=v5\"\n",
    "        \n",
    "        driver.get(naver_map_search_url)\n",
    "        time.sleep(3.5)\n",
    "        df.iloc[i,-1] = driver.find_element_by_css_selector(\"#ct > div.search_listview._content._ctList > ul > li:nth-child(1) > div.item_info > a.a_item.a_item_distance._linkSiteview\").get_attribute('data-cid')\n",
    "\n",
    "    except Exception as e1:\n",
    "        if \"li:nth-child(1)\" in str(e1):\n",
    "            try:\n",
    "                df.iloc[i,-1] = driver.find_element_by_css_selector(\"#ct > div.search_listview._content._ctList > ul > li:nth-child(1) > div.item_info > a.a_item.a_item_distance._linkSiteview\").get_attribute('data-cid')\n",
    "                time.sleep(1)\n",
    "            except Exception as e2:\n",
    "                print(i, keyword)\n",
    "                print(e2)\n",
    "                df.iloc[i,-1] = np.nan\n",
    "                time.sleep(1)\n",
    "        else:\n",
    "            pass\n",
    "        \n",
    "driver.quit()"
   ]
  },
  {
   "cell_type": "code",
   "execution_count": 12,
   "id": "820394c0-1d86-4676-8ddd-0a90adc419e8",
   "metadata": {
    "id": "820394c0-1d86-4676-8ddd-0a90adc419e8",
    "outputId": "fd9ee338-e580-481b-9b93-75ad412f2b0f"
   },
   "outputs": [
    {
     "data": {
      "text/html": [
       "<div>\n",
       "<style scoped>\n",
       "    .dataframe tbody tr th:only-of-type {\n",
       "        vertical-align: middle;\n",
       "    }\n",
       "\n",
       "    .dataframe tbody tr th {\n",
       "        vertical-align: top;\n",
       "    }\n",
       "\n",
       "    .dataframe thead th {\n",
       "        text-align: right;\n",
       "    }\n",
       "</style>\n",
       "<table border=\"1\" class=\"dataframe\">\n",
       "  <thead>\n",
       "    <tr style=\"text-align: right;\">\n",
       "      <th></th>\n",
       "      <th>광역단체</th>\n",
       "      <th>기초단체</th>\n",
       "      <th>영화상영관명</th>\n",
       "      <th>전송사업자명</th>\n",
       "      <th>data-cid</th>\n",
       "    </tr>\n",
       "  </thead>\n",
       "  <tbody>\n",
       "    <tr>\n",
       "      <th>43</th>\n",
       "      <td>서울시</td>\n",
       "      <td>종로구</td>\n",
       "      <td>에무 시네마 앤 카페</td>\n",
       "      <td>(주)디트릭스</td>\n",
       "      <td>NaN</td>\n",
       "    </tr>\n",
       "    <tr>\n",
       "      <th>54</th>\n",
       "      <td>서울시</td>\n",
       "      <td>은평구</td>\n",
       "      <td>롯데시네마 은평(롯데몰)</td>\n",
       "      <td>롯데컬처웍스(주)롯데시네마</td>\n",
       "      <td>NaN</td>\n",
       "    </tr>\n",
       "    <tr>\n",
       "      <th>56</th>\n",
       "      <td>서울시</td>\n",
       "      <td>송파구</td>\n",
       "      <td>롯데시네마 월드타워_샤롯데</td>\n",
       "      <td>롯데컬처웍스(주)롯데시네마</td>\n",
       "      <td>NaN</td>\n",
       "    </tr>\n",
       "    <tr>\n",
       "      <th>78</th>\n",
       "      <td>서울시</td>\n",
       "      <td>중구</td>\n",
       "      <td>메가박스 EOE4(남산자동차극장)</td>\n",
       "      <td>메가박스(주)</td>\n",
       "      <td>NaN</td>\n",
       "    </tr>\n",
       "    <tr>\n",
       "      <th>90</th>\n",
       "      <td>서울시</td>\n",
       "      <td>강서구</td>\n",
       "      <td>롯데시네마 김포공항_샤롯데</td>\n",
       "      <td>롯데컬처웍스(주)롯데시네마</td>\n",
       "      <td>NaN</td>\n",
       "    </tr>\n",
       "    <tr>\n",
       "      <th>91</th>\n",
       "      <td>서울시</td>\n",
       "      <td>중구</td>\n",
       "      <td>롯데시네마 에비뉴엘(명동)_샤롯데</td>\n",
       "      <td>롯데컬처웍스(주)롯데시네마</td>\n",
       "      <td>NaN</td>\n",
       "    </tr>\n",
       "    <tr>\n",
       "      <th>96</th>\n",
       "      <td>서울시</td>\n",
       "      <td>종로구</td>\n",
       "      <td>허리우드클래식</td>\n",
       "      <td>인터파크(주)</td>\n",
       "      <td>NaN</td>\n",
       "    </tr>\n",
       "    <tr>\n",
       "      <th>102</th>\n",
       "      <td>경기도</td>\n",
       "      <td>광주시</td>\n",
       "      <td>CGV DRIVE IN 곤지암</td>\n",
       "      <td>CJ올리브네트웍스(주)</td>\n",
       "      <td>NaN</td>\n",
       "    </tr>\n",
       "    <tr>\n",
       "      <th>103</th>\n",
       "      <td>경기도</td>\n",
       "      <td>화성시</td>\n",
       "      <td>롯데시네마 동탄_샤롯데</td>\n",
       "      <td>롯데컬처웍스(주)롯데시네마</td>\n",
       "      <td>NaN</td>\n",
       "    </tr>\n",
       "    <tr>\n",
       "      <th>120</th>\n",
       "      <td>경기도</td>\n",
       "      <td>안양시</td>\n",
       "      <td>롯데시네마 안양(안양역)</td>\n",
       "      <td>롯데컬처웍스(주)롯데시네마</td>\n",
       "      <td>NaN</td>\n",
       "    </tr>\n",
       "    <tr>\n",
       "      <th>170</th>\n",
       "      <td>경기도</td>\n",
       "      <td>안산시</td>\n",
       "      <td>롯데시네마 안산(롯데마트)_Charlotte관</td>\n",
       "      <td>롯데컬처웍스(주)롯데시네마</td>\n",
       "      <td>NaN</td>\n",
       "    </tr>\n",
       "    <tr>\n",
       "      <th>172</th>\n",
       "      <td>경기도</td>\n",
       "      <td>부천시</td>\n",
       "      <td>롯데시네마 부천(신중동역)</td>\n",
       "      <td>롯데컬처웍스(주)롯데시네마</td>\n",
       "      <td>NaN</td>\n",
       "    </tr>\n",
       "    <tr>\n",
       "      <th>173</th>\n",
       "      <td>경기도</td>\n",
       "      <td>안양시</td>\n",
       "      <td>롯데시네마 평촌(범계역)_Charlotte관</td>\n",
       "      <td>롯데컬처웍스(주)롯데시네마</td>\n",
       "      <td>NaN</td>\n",
       "    </tr>\n",
       "    <tr>\n",
       "      <th>232</th>\n",
       "      <td>경기도</td>\n",
       "      <td>화성시</td>\n",
       "      <td>화성시문화재단 모두누림센터 누림아트홀</td>\n",
       "      <td>인터파크(주)</td>\n",
       "      <td>NaN</td>\n",
       "    </tr>\n",
       "    <tr>\n",
       "      <th>235</th>\n",
       "      <td>경기도</td>\n",
       "      <td>동두천시</td>\n",
       "      <td>동광극장(구 문화극장3관)</td>\n",
       "      <td>예스이십사 주식회사</td>\n",
       "      <td>NaN</td>\n",
       "    </tr>\n",
       "    <tr>\n",
       "      <th>237</th>\n",
       "      <td>경기도</td>\n",
       "      <td>남양주시</td>\n",
       "      <td>파랑새자동차극장</td>\n",
       "      <td>NaN</td>\n",
       "      <td>NaN</td>\n",
       "    </tr>\n",
       "  </tbody>\n",
       "</table>\n",
       "</div>"
      ],
      "text/plain": [
       "    광역단체  기초단체                     영화상영관명          전송사업자명 data-cid\n",
       "43   서울시   종로구                에무 시네마 앤 카페         (주)디트릭스      NaN\n",
       "54   서울시   은평구              롯데시네마 은평(롯데몰)  롯데컬처웍스(주)롯데시네마      NaN\n",
       "56   서울시   송파구             롯데시네마 월드타워_샤롯데  롯데컬처웍스(주)롯데시네마      NaN\n",
       "78   서울시    중구         메가박스 EOE4(남산자동차극장)         메가박스(주)      NaN\n",
       "90   서울시   강서구             롯데시네마 김포공항_샤롯데  롯데컬처웍스(주)롯데시네마      NaN\n",
       "91   서울시    중구         롯데시네마 에비뉴엘(명동)_샤롯데  롯데컬처웍스(주)롯데시네마      NaN\n",
       "96   서울시   종로구                    허리우드클래식         인터파크(주)      NaN\n",
       "102  경기도   광주시           CGV DRIVE IN 곤지암    CJ올리브네트웍스(주)      NaN\n",
       "103  경기도   화성시               롯데시네마 동탄_샤롯데  롯데컬처웍스(주)롯데시네마      NaN\n",
       "120  경기도   안양시              롯데시네마 안양(안양역)  롯데컬처웍스(주)롯데시네마      NaN\n",
       "170  경기도   안산시  롯데시네마 안산(롯데마트)_Charlotte관  롯데컬처웍스(주)롯데시네마      NaN\n",
       "172  경기도   부천시             롯데시네마 부천(신중동역)  롯데컬처웍스(주)롯데시네마      NaN\n",
       "173  경기도   안양시   롯데시네마 평촌(범계역)_Charlotte관  롯데컬처웍스(주)롯데시네마      NaN\n",
       "232  경기도   화성시       화성시문화재단 모두누림센터 누림아트홀         인터파크(주)      NaN\n",
       "235  경기도  동두천시             동광극장(구 문화극장3관)      예스이십사 주식회사      NaN\n",
       "237  경기도  남양주시                   파랑새자동차극장             NaN      NaN"
      ]
     },
     "execution_count": 12,
     "metadata": {},
     "output_type": "execute_result"
    }
   ],
   "source": [
    "df[df['data-cid'].isnull()]"
   ]
  },
  {
   "cell_type": "code",
   "execution_count": 15,
   "id": "706000e5-b143-4799-b8ce-eb2285aded87",
   "metadata": {},
   "outputs": [
    {
     "name": "stdout",
     "output_type": "stream",
     "text": [
      "<class 'pandas.core.frame.DataFrame'>\n",
      "Int64Index: 243 entries, 0 to 242\n",
      "Data columns (total 5 columns):\n",
      " #   Column    Non-Null Count  Dtype \n",
      "---  ------    --------------  ----- \n",
      " 0   광역단체      243 non-null    object\n",
      " 1   기초단체      243 non-null    object\n",
      " 2   영화상영관명    243 non-null    object\n",
      " 3   전송사업자명    236 non-null    object\n",
      " 4   data-cid  227 non-null    object\n",
      "dtypes: object(5)\n",
      "memory usage: 11.4+ KB\n"
     ]
    }
   ],
   "source": [
    "df.info()"
   ]
  },
  {
   "cell_type": "markdown",
   "id": "e7b42fee-aafd-425d-b67e-a725acb64936",
   "metadata": {},
   "source": [
    "### 2) 1차 수집 데이터 저장"
   ]
  },
  {
   "cell_type": "code",
   "execution_count": 13,
   "id": "41028b89-80ed-4ece-97b5-66822ca3b6f5",
   "metadata": {},
   "outputs": [],
   "source": [
    "df.to_csv('Datasets/수도권 영화상영관정보(1차 수집)_2021-10-14.csv', encoding='euc-kr')"
   ]
  },
  {
   "cell_type": "markdown",
   "id": "6b671e5f-04ad-4c8b-8a38-2108d4b55430",
   "metadata": {
    "id": "6b671e5f-04ad-4c8b-8a38-2108d4b55430"
   },
   "source": [
    "## 3. 변경&삭제 반영 후 재수집"
   ]
  },
  {
   "cell_type": "code",
   "execution_count": 14,
   "id": "20473bfc-d660-4aa1-9c76-c58fc65a972d",
   "metadata": {
    "executionInfo": {
     "elapsed": 715,
     "status": "ok",
     "timestamp": 1634375733978,
     "user": {
      "displayName": "Sang hoon Oh",
      "photoUrl": "https://lh3.googleusercontent.com/a-/AOh14Ghn6EzdEh67N_EmPhGNy1mIY9u9fWl87BCkZkse2w=s64",
      "userId": "04589800152342474386"
     },
     "user_tz": -540
    },
    "id": "20473bfc-d660-4aa1-9c76-c58fc65a972d"
   },
   "outputs": [],
   "source": [
    "df_new = pd.read_csv('Datasets/수도권 영화상영관정보(1차 수집)_2021-10-14.csv', encoding='euc-kr', index_col=0)"
   ]
  },
  {
   "cell_type": "markdown",
   "id": "5f44a1f1-e843-4161-8ab8-ae94d3357e16",
   "metadata": {
    "id": "5f44a1f1-e843-4161-8ab8-ae94d3357e16"
   },
   "source": [
    "    (1) 변경(6개)\n",
    "        - 에무 시네마 앤 카페 > 에무 시네마\n",
    "        - 롯데시네마 은평(롯데몰) > 롯데시네마 은평\n",
    "        - 롯데시네마 안양(안양역) > 롯데시네마 안양\n",
    "        - 롯데시네마 부천(신중동역) > 롯데시네마 부천\n",
    "        - 화성시문화재단 모두누림센터 누림아트홀 > 누림아트홀\n",
    "        - 동광극장(구 문화극장3관) > 동광극장"
   ]
  },
  {
   "cell_type": "code",
   "execution_count": 16,
   "id": "a65a9f2a-e439-4537-85e7-80bbec0e2f7f",
   "metadata": {
    "executionInfo": {
     "elapsed": 278,
     "status": "ok",
     "timestamp": 1634375822712,
     "user": {
      "displayName": "Sang hoon Oh",
      "photoUrl": "https://lh3.googleusercontent.com/a-/AOh14Ghn6EzdEh67N_EmPhGNy1mIY9u9fWl87BCkZkse2w=s64",
      "userId": "04589800152342474386"
     },
     "user_tz": -540
    },
    "id": "a65a9f2a-e439-4537-85e7-80bbec0e2f7f"
   },
   "outputs": [],
   "source": [
    "change_value_dic = {'에무 시네마 앤 카페':'에무 시네마',\n",
    "                    '롯데시네마 은평(롯데몰)':'롯데시네마 은평',\n",
    "                    '롯데시네마 안양(안양역)':'롯데시네마 안양',\n",
    "                    '롯데시네마 부천(신중동역)':'롯데시네마 부천',\n",
    "                    '화성시문화재단 모두누림센터 누림아트홀':'누림아트홀',\n",
    "                    '동광극장(구 문화극장3관)':'동광극장'}\n",
    "\n",
    "df_new = df_new.replace({'영화상영관명': change_value_dic})                "
   ]
  },
  {
   "cell_type": "code",
   "execution_count": 22,
   "id": "60a423cd-434a-4ae9-b188-f05c1ad4e885",
   "metadata": {},
   "outputs": [
    {
     "data": {
      "text/html": [
       "<div>\n",
       "<style scoped>\n",
       "    .dataframe tbody tr th:only-of-type {\n",
       "        vertical-align: middle;\n",
       "    }\n",
       "\n",
       "    .dataframe tbody tr th {\n",
       "        vertical-align: top;\n",
       "    }\n",
       "\n",
       "    .dataframe thead th {\n",
       "        text-align: right;\n",
       "    }\n",
       "</style>\n",
       "<table border=\"1\" class=\"dataframe\">\n",
       "  <thead>\n",
       "    <tr style=\"text-align: right;\">\n",
       "      <th></th>\n",
       "      <th>광역단체</th>\n",
       "      <th>기초단체</th>\n",
       "      <th>영화상영관명</th>\n",
       "      <th>전송사업자명</th>\n",
       "      <th>data-cid</th>\n",
       "    </tr>\n",
       "  </thead>\n",
       "  <tbody>\n",
       "    <tr>\n",
       "      <th>43</th>\n",
       "      <td>서울시</td>\n",
       "      <td>종로구</td>\n",
       "      <td>에무 시네마</td>\n",
       "      <td>(주)디트릭스</td>\n",
       "      <td>NaN</td>\n",
       "    </tr>\n",
       "    <tr>\n",
       "      <th>54</th>\n",
       "      <td>서울시</td>\n",
       "      <td>은평구</td>\n",
       "      <td>롯데시네마 은평</td>\n",
       "      <td>롯데컬처웍스(주)롯데시네마</td>\n",
       "      <td>NaN</td>\n",
       "    </tr>\n",
       "    <tr>\n",
       "      <th>120</th>\n",
       "      <td>경기도</td>\n",
       "      <td>안양시</td>\n",
       "      <td>롯데시네마 안양</td>\n",
       "      <td>롯데컬처웍스(주)롯데시네마</td>\n",
       "      <td>NaN</td>\n",
       "    </tr>\n",
       "    <tr>\n",
       "      <th>172</th>\n",
       "      <td>경기도</td>\n",
       "      <td>부천시</td>\n",
       "      <td>롯데시네마 부천</td>\n",
       "      <td>롯데컬처웍스(주)롯데시네마</td>\n",
       "      <td>NaN</td>\n",
       "    </tr>\n",
       "    <tr>\n",
       "      <th>232</th>\n",
       "      <td>경기도</td>\n",
       "      <td>화성시</td>\n",
       "      <td>누림아트홀</td>\n",
       "      <td>인터파크(주)</td>\n",
       "      <td>NaN</td>\n",
       "    </tr>\n",
       "    <tr>\n",
       "      <th>235</th>\n",
       "      <td>경기도</td>\n",
       "      <td>동두천시</td>\n",
       "      <td>동광극장</td>\n",
       "      <td>예스이십사 주식회사</td>\n",
       "      <td>NaN</td>\n",
       "    </tr>\n",
       "  </tbody>\n",
       "</table>\n",
       "</div>"
      ],
      "text/plain": [
       "    광역단체  기초단체    영화상영관명          전송사업자명  data-cid\n",
       "43   서울시   종로구    에무 시네마         (주)디트릭스       NaN\n",
       "54   서울시   은평구  롯데시네마 은평  롯데컬처웍스(주)롯데시네마       NaN\n",
       "120  경기도   안양시  롯데시네마 안양  롯데컬처웍스(주)롯데시네마       NaN\n",
       "172  경기도   부천시  롯데시네마 부천  롯데컬처웍스(주)롯데시네마       NaN\n",
       "232  경기도   화성시     누림아트홀         인터파크(주)       NaN\n",
       "235  경기도  동두천시      동광극장      예스이십사 주식회사       NaN"
      ]
     },
     "execution_count": 22,
     "metadata": {},
     "output_type": "execute_result"
    }
   ],
   "source": [
    "df_new[df_new['영화상영관명'].isin(['에무 시네마', '롯데시네마 은평', '롯데시네마 안양', '롯데시네마 부천', '누림아트홀', '동광극장'])]"
   ]
  },
  {
   "cell_type": "markdown",
   "id": "d9e1d42c-14b3-4703-98f6-5670f60a2f18",
   "metadata": {
    "id": "d9e1d42c-14b3-4703-98f6-5670f60a2f18"
   },
   "source": [
    "    (2) 삭제(10개)\n",
    "        - 롯데시네마 샤롯데의 경우 해당 일반 영화상영관 리뷰로 등록되어있기때문에 제외"
   ]
  },
  {
   "cell_type": "code",
   "execution_count": 23,
   "id": "8c776e0f-cda0-441f-b90b-e5a6c36468d5",
   "metadata": {
    "executionInfo": {
     "elapsed": 435,
     "status": "ok",
     "timestamp": 1634375929974,
     "user": {
      "displayName": "Sang hoon Oh",
      "photoUrl": "https://lh3.googleusercontent.com/a-/AOh14Ghn6EzdEh67N_EmPhGNy1mIY9u9fWl87BCkZkse2w=s64",
      "userId": "04589800152342474386"
     },
     "user_tz": -540
    },
    "id": "8c776e0f-cda0-441f-b90b-e5a6c36468d5"
   },
   "outputs": [],
   "source": [
    "drop_list = ['롯데시네마 월드타워_샤롯데', '메가박스 EOE4(남산자동차극장)', '롯데시네마 김포공항_샤롯데', '롯데시네마 에비뉴엘(명동)_샤롯데',\n",
    "             '허리우드클래식', 'CGV DRIVE IN 곤지암', '롯데시네마 동탄_샤롯데', '롯데시네마 안산(롯데마트)_Charlotte관',\n",
    "             '롯데시네마 평촌(범계역)_Charlotte관', '파랑새자동차극장']\n",
    "\n",
    "for i in drop_list:\n",
    "    indexname = df_new[df_new['영화상영관명'] == i].index\n",
    "    df_new.drop(indexname, inplace=True)"
   ]
  },
  {
   "cell_type": "code",
   "execution_count": 24,
   "id": "e69dda2d-3f17-41ca-aadd-4ff11808b924",
   "metadata": {},
   "outputs": [
    {
     "name": "stdout",
     "output_type": "stream",
     "text": [
      "<class 'pandas.core.frame.DataFrame'>\n",
      "Int64Index: 233 entries, 0 to 242\n",
      "Data columns (total 5 columns):\n",
      " #   Column    Non-Null Count  Dtype  \n",
      "---  ------    --------------  -----  \n",
      " 0   광역단체      233 non-null    object \n",
      " 1   기초단체      233 non-null    object \n",
      " 2   영화상영관명    233 non-null    object \n",
      " 3   전송사업자명    227 non-null    object \n",
      " 4   data-cid  227 non-null    float64\n",
      "dtypes: float64(1), object(4)\n",
      "memory usage: 10.9+ KB\n"
     ]
    }
   ],
   "source": [
    "df_new.info()"
   ]
  },
  {
   "cell_type": "code",
   "execution_count": 29,
   "id": "e9bc1137-8070-41ca-9b48-34fe3faaa618",
   "metadata": {},
   "outputs": [],
   "source": [
    "df_new.reset_index(drop=True, inplace=True)"
   ]
  },
  {
   "cell_type": "code",
   "execution_count": 41,
   "id": "f3a206c1-7420-4d59-b768-b4c740785a90",
   "metadata": {},
   "outputs": [],
   "source": [
    "# 변경된 영화상영관명에 해당하는 data-cid만 찾아오는 방법을 모르겠네 . . "
   ]
  },
  {
   "cell_type": "code",
   "execution_count": null,
   "id": "a880e576-c3e5-4153-ba42-57e7f0d22356",
   "metadata": {
    "colab": {
     "base_uri": "https://localhost:8080/",
     "height": 204
    },
    "executionInfo": {
     "elapsed": 291,
     "status": "ok",
     "timestamp": 1634375741294,
     "user": {
      "displayName": "Sang hoon Oh",
      "photoUrl": "https://lh3.googleusercontent.com/a-/AOh14Ghn6EzdEh67N_EmPhGNy1mIY9u9fWl87BCkZkse2w=s64",
      "userId": "04589800152342474386"
     },
     "user_tz": -540
    },
    "id": "a880e576-c3e5-4153-ba42-57e7f0d22356",
    "outputId": "de71a0a2-5846-41f1-c5cb-3a56a8ea36b0"
   },
   "outputs": [],
   "source": [
    "path = \"Download\\chromedriver_win32\\chromedriver.exe\"\n",
    "driver = webdriver.Chrome(path)\n",
    "\n",
    "for i, keyword in enumerate(tqdm(df_new['영화상영관명'].tolist())):\n",
    "    \n",
    "    try:\n",
    "        naver_map_search_url = f\"https://m.map.naver.com/search2/search.naver?query={keyword}&sm=hty&style=v5\"\n",
    "        \n",
    "        driver.get(naver_map_search_url)\n",
    "        time.sleep(3.5)\n",
    "        df_new.iloc[i,-1] = driver.find_element_by_css_selector(\"#ct > div.search_listview._content._ctList > ul > li:nth-child(1) > div.item_info > a.a_item.a_item_distance._linkSiteview\").get_attribute('data-cid')\n",
    "\n",
    "    except Exception as e1:\n",
    "        if \"li:nth-child(1)\" in str(e1):\n",
    "            try:\n",
    "                df_new.iloc[i,-1] = driver.find_element_by_css_selector(\"#ct > div.search_listview._content._ctList > ul > li:nth-child(1) > div.item_info > a.a_item.a_item_distance._linkSiteview\").get_attribute('data-cid')\n",
    "                time.sleep(1)\n",
    "            except Exception as e2:\n",
    "                print(e2)\n",
    "                df_new.iloc[i,-1] = np.nan\n",
    "                time.sleep(1)\n",
    "        else:\n",
    "            pass\n",
    "        \n",
    "driver.quit()"
   ]
  },
  {
   "cell_type": "code",
   "execution_count": null,
   "id": "dac69218-0593-4f02-bfca-9e6eb89db40b",
   "metadata": {},
   "outputs": [],
   "source": [
    "df_new['naver_map_url'] = 'https://m.place.naver.com/place/' + df_new['data-cid']"
   ]
  },
  {
   "cell_type": "code",
   "execution_count": null,
   "id": "a8a791e1-f4af-4e13-8230-19de0512abb9",
   "metadata": {},
   "outputs": [],
   "source": [
    "df_new.head()"
   ]
  },
  {
   "cell_type": "code",
   "execution_count": null,
   "id": "fb0ca3db-b8bc-4d29-bd87-a7229ffd96b6",
   "metadata": {
    "id": "fb0ca3db-b8bc-4d29-bd87-a7229ffd96b6",
    "outputId": "fcdc9c33-9ecd-4510-e5e0-a51c55986687"
   },
   "outputs": [],
   "source": [
    "df_new[df_new['naver_map_url'].isnull()]"
   ]
  },
  {
   "cell_type": "markdown",
   "id": "514c7225-ad51-4741-8f40-4e9cd79396bd",
   "metadata": {},
   "source": [
    "    (3) 임시 저장"
   ]
  },
  {
   "cell_type": "code",
   "execution_count": null,
   "id": "e9b8dd23-3cc7-4c95-a4a4-a8fa71572175",
   "metadata": {},
   "outputs": [],
   "source": [
    "df_new.to_csv('Datasets/수도권 영화상영관정보_url수집_2021-10-14.csv', encoding='euc-kr')"
   ]
  },
  {
   "cell_type": "markdown",
   "id": "58254a85-eed0-43e8-a8b9-6bf9d44bdbe3",
   "metadata": {
    "id": "58254a85-eed0-43e8-a8b9-6bf9d44bdbe3"
   },
   "source": [
    "## 4. 네이버지도 리뷰 데이터 수집"
   ]
  },
  {
   "cell_type": "code",
   "execution_count": null,
   "id": "bc21c944-bdd3-46b0-9930-d7468cf37475",
   "metadata": {
    "id": "bc21c944-bdd3-46b0-9930-d7468cf37475"
   },
   "outputs": [],
   "source": [
    "review_list = []"
   ]
  },
  {
   "cell_type": "code",
   "execution_count": null,
   "id": "1ac8e815-64b2-4003-851f-772844c8050d",
   "metadata": {
    "id": "1ac8e815-64b2-4003-851f-772844c8050d"
   },
   "outputs": [],
   "source": [
    "path = \"Download\\chromedriver_win32\\chromedriver.exe\"\n",
    "driver = webdriver.Chrome(path)\n",
    "\n",
    "for i, url in enumerate(tqdm(df_new['naver_map_url'])):\n",
    "    \n",
    "    driver.get(url + '/review/visitor')\n",
    "    time.sleep(2)\n",
    "    \n",
    "    try:      \n",
    "        # '더보기' 단추 누르기\n",
    "        try:\n",
    "            more_button = driver.find_element_by_css_selector(\"#app-root > div > div > div.place_detail_wrapper > div:nth-child(5) > div:nth-child(4) > div:nth-child(4) > div._2kAri > a\")\n",
    "            for i in range(7):\n",
    "                more_button.click()\n",
    "                time.sleep(1.5)\n",
    "        except:\n",
    "            pass\n",
    "        \n",
    "        # 방문자 리뷰 가져오기\n",
    "        review_text_list = [] # 임시 리스트 생성\n",
    "        review_text_crawl_list = driver.find_elements_by_class_name(\"_2Cv-r\")\n",
    "        \n",
    "        # 방문자 리뷰 리스트 풀기\n",
    "        for review_data in review_text_crawl_list:\n",
    "            try:\n",
    "                review_text_list.append(review_data.find_element_by_class_name(\"WoYOw\").text)\n",
    "            except:\n",
    "                pass\n",
    "                                   \n",
    "        # 저장된 리스트 텍스트를 한 텍스트 덩어리로 모아 합치기\n",
    "        review_text = \",\".join(review_text_list)\n",
    "        review_list.append(review_text)\n",
    "                                    \n",
    "    except Exception as e1:\n",
    "        print(f\"{i}행 오류 발생\")\n",
    "        \n",
    "        review_list.append('null')\n",
    "        \n",
    "driver.quit()\n"
   ]
  },
  {
   "cell_type": "code",
   "execution_count": null,
   "id": "572ed9fd-f8e1-4c57-85ef-05a85f1828dc",
   "metadata": {},
   "outputs": [],
   "source": [
    "aa = pd.DataFrame(data=review_list, columns=['naver_map_review'])"
   ]
  },
  {
   "cell_type": "code",
   "execution_count": null,
   "id": "9660da91-975d-465c-9271-f2832ee31161",
   "metadata": {},
   "outputs": [],
   "source": [
    "aa"
   ]
  },
  {
   "cell_type": "markdown",
   "id": "45ab4136-3215-41e8-a1be-3fb669e95f79",
   "metadata": {},
   "source": [
    "# 임시"
   ]
  },
  {
   "cell_type": "code",
   "execution_count": null,
   "id": "5fca42a5-d394-4cc4-9612-c023a90c4511",
   "metadata": {},
   "outputs": [],
   "source": [
    "tem = df_new.head()\n",
    "tem"
   ]
  },
  {
   "cell_type": "code",
   "execution_count": null,
   "id": "cd524e7f-92e5-4f38-81ed-58b72472b7cb",
   "metadata": {},
   "outputs": [],
   "source": [
    "review_list = []"
   ]
  },
  {
   "cell_type": "code",
   "execution_count": null,
   "id": "62143196-830e-4c31-8354-27a1db069c57",
   "metadata": {
    "id": "62143196-830e-4c31-8354-27a1db069c57"
   },
   "outputs": [],
   "source": [
    "path = \"Download\\chromedriver_win32\\chromedriver.exe\"\n",
    "driver = webdriver.Chrome(path)\n",
    "\n",
    "for i, url in enumerate(tqdm(tem['naver_map_url'])):\n",
    "    \n",
    "    driver.get(url + '/review/visitor')\n",
    "    time.sleep(2)\n",
    "    \n",
    "    try:      \n",
    "        # '더보기' 단추 누르기\n",
    "        try:\n",
    "            more_button = driver.find_element_by_css_selector(\"#app-root > div > div > div.place_detail_wrapper > div:nth-child(5) > div:nth-child(4) > div:nth-child(4) > div._2kAri > a\")\n",
    "            for i in range(7):\n",
    "                more_button.click()\n",
    "                time.sleep(1.5)\n",
    "        except:\n",
    "            pass\n",
    "        \n",
    "        # 방문자 리뷰 가져오기\n",
    "        review_text_list = [] # 임시 리스트 생성\n",
    "        review_text_crawl_list = driver.find_elements_by_class_name(\"_2Cv-r\")\n",
    "        \n",
    "        # 방문자 리뷰 리스트 풀기\n",
    "        for review_data in review_text_crawl_list:\n",
    "            try:\n",
    "                review_text_list.append(review_data.find_element_by_class_name(\"WoYOw\").text)\n",
    "            except:\n",
    "                pass\n",
    "                                   \n",
    "        # 저장된 리스트 텍스트를 한 텍스트 덩어리로 모아 합치기\n",
    "        review_text = \",\".join(review_text_list)\n",
    "        review_list.append(review_text)\n",
    "                                    \n",
    "    except Exception as e1:\n",
    "        print(f\"{i}행 오류 발생\")\n",
    "        \n",
    "        review_list.append('null')\n",
    "        \n",
    "driver.quit()"
   ]
  },
  {
   "cell_type": "code",
   "execution_count": null,
   "id": "ceef99aa-0f4c-4c93-955e-719648334ce1",
   "metadata": {
    "id": "ceef99aa-0f4c-4c93-955e-719648334ce1"
   },
   "outputs": [],
   "source": [
    "tem"
   ]
  },
  {
   "cell_type": "code",
   "execution_count": null,
   "id": "e59083d5-0a05-4c47-b3ff-6d100f4d9ca5",
   "metadata": {
    "id": "e59083d5-0a05-4c47-b3ff-6d100f4d9ca5"
   },
   "outputs": [],
   "source": []
  },
  {
   "cell_type": "code",
   "execution_count": null,
   "id": "e4706f28-2465-4e5d-8ce9-69bc8ed0cf9d",
   "metadata": {
    "id": "e4706f28-2465-4e5d-8ce9-69bc8ed0cf9d"
   },
   "outputs": [],
   "source": []
  },
  {
   "cell_type": "code",
   "execution_count": null,
   "id": "726571ad-9973-4a2d-b0fa-38f1e8a37ad4",
   "metadata": {
    "id": "726571ad-9973-4a2d-b0fa-38f1e8a37ad4"
   },
   "outputs": [],
   "source": []
  }
 ],
 "metadata": {
  "colab": {
   "name": "2. 네이버지도 웹크롤링.ipynb",
   "provenance": []
  },
  "kernelspec": {
   "display_name": "Python 3 (ipykernel)",
   "language": "python",
   "name": "python3"
  },
  "language_info": {
   "codemirror_mode": {
    "name": "ipython",
    "version": 3
   },
   "file_extension": ".py",
   "mimetype": "text/x-python",
   "name": "python",
   "nbconvert_exporter": "python",
   "pygments_lexer": "ipython3",
   "version": "3.8.11"
  }
 },
 "nbformat": 4,
 "nbformat_minor": 5
}
