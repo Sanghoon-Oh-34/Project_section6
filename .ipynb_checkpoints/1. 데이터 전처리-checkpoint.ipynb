{
 "cells": [
  {
   "cell_type": "markdown",
   "id": "c23f8da1-ce0e-4fe7-95d3-3079c7284cc9",
   "metadata": {},
   "source": [
    "## 1) 라이브러리&패키지 불러오기"
   ]
  },
  {
   "cell_type": "code",
   "execution_count": 50,
   "id": "26822b57-d868-4a85-8208-54d4b3dfeb30",
   "metadata": {},
   "outputs": [],
   "source": [
    "import pandas as pd\n",
    "import re\n",
    "from pprint import pprint"
   ]
  },
  {
   "cell_type": "markdown",
   "id": "72403672-8ab4-48cb-b6ae-a878a656dc1d",
   "metadata": {},
   "source": [
    "## 2) 데이터셋 불러오기\n",
    "- 제목: SNS 관광객리뷰웹문서\n",
    "- 데이터 구간: 2010년 1월 ~ 2020년 12월\n",
    "- 출처: 경기지역경제포털(URL: https://bigdata-region.kr/)"
   ]
  },
  {
   "cell_type": "code",
   "execution_count": 2,
   "id": "182f1b26-56be-4099-af7e-80ce6809349e",
   "metadata": {},
   "outputs": [],
   "source": [
    "df = pd.read_csv('Datasets/TC_SN_TURIST_RVW__WEB_DOC_20210106220911.csv', encoding='UTF-8')"
   ]
  },
  {
   "cell_type": "code",
   "execution_count": 3,
   "id": "d6eff874-c29a-402b-9ffa-e459f74dc502",
   "metadata": {},
   "outputs": [
    {
     "name": "stdout",
     "output_type": "stream",
     "text": [
      "<class 'pandas.core.frame.DataFrame'>\n",
      "RangeIndex: 14836 entries, 0 to 14835\n",
      "Data columns (total 6 columns):\n",
      " #   Column  Non-Null Count  Dtype \n",
      "---  ------  --------------  ----- \n",
      " 0   수집인덱스   14836 non-null  int64 \n",
      " 1   기준년월    14836 non-null  object\n",
      " 2   수집채널명   14836 non-null  object\n",
      " 3   수집URL   14836 non-null  object\n",
      " 4   제목      14836 non-null  object\n",
      " 5   내용      14836 non-null  object\n",
      "dtypes: int64(1), object(5)\n",
      "memory usage: 695.6+ KB\n"
     ]
    }
   ],
   "source": [
    "df.info()"
   ]
  },
  {
   "cell_type": "code",
   "execution_count": 4,
   "id": "ee525edd-2cd6-4ed8-82f5-a6af5a1da53e",
   "metadata": {},
   "outputs": [
    {
     "data": {
      "text/html": [
       "<div>\n",
       "<style scoped>\n",
       "    .dataframe tbody tr th:only-of-type {\n",
       "        vertical-align: middle;\n",
       "    }\n",
       "\n",
       "    .dataframe tbody tr th {\n",
       "        vertical-align: top;\n",
       "    }\n",
       "\n",
       "    .dataframe thead th {\n",
       "        text-align: right;\n",
       "    }\n",
       "</style>\n",
       "<table border=\"1\" class=\"dataframe\">\n",
       "  <thead>\n",
       "    <tr style=\"text-align: right;\">\n",
       "      <th></th>\n",
       "      <th>수집인덱스</th>\n",
       "      <th>기준년월</th>\n",
       "      <th>수집채널명</th>\n",
       "      <th>수집URL</th>\n",
       "      <th>제목</th>\n",
       "      <th>내용</th>\n",
       "    </tr>\n",
       "  </thead>\n",
       "  <tbody>\n",
       "    <tr>\n",
       "      <th>0</th>\n",
       "      <td>1</td>\n",
       "      <td>2010-02</td>\n",
       "      <td>TRIPADVISOR_고양 서오릉</td>\n",
       "      <td>https://www.tripadvisor.co.kr/Attraction_Revie...</td>\n",
       "      <td>一人で行くのは怖いかも・・</td>\n",
       "      <td>2009年6月に新たに世界遺産に登録された獻陵と仁陵をみてきました。　  朝鮮王朝時代の国王...</td>\n",
       "    </tr>\n",
       "    <tr>\n",
       "      <th>1</th>\n",
       "      <td>2</td>\n",
       "      <td>2010-02</td>\n",
       "      <td>TRIPADVISOR_수원화성</td>\n",
       "      <td>https://www.tripadvisor.co.kr/Attraction_Revie...</td>\n",
       "      <td>世界遺産に包まれた町</td>\n",
       "      <td>世界遺産の水原の華城に行きました。水原の華城はとても広く、歩いて回るのは2-3時間はかかるの...</td>\n",
       "    </tr>\n",
       "    <tr>\n",
       "      <th>2</th>\n",
       "      <td>3</td>\n",
       "      <td>2010-02</td>\n",
       "      <td>TRIPADVISOR_수원화성</td>\n",
       "      <td>https://www.tripadvisor.co.kr/Attraction_Revie...</td>\n",
       "      <td>世界遺産。歴史ドラマが好きな人にはおススメ</td>\n",
       "      <td>ソウル市内から地下鉄に乗って約１時間。 水原（スウォン）駅で下車。 駅近くに観光案内所があり...</td>\n",
       "    </tr>\n",
       "    <tr>\n",
       "      <th>3</th>\n",
       "      <td>4</td>\n",
       "      <td>2010-03</td>\n",
       "      <td>TRIPADVISOR_DMZ</td>\n",
       "      <td>https://www.tripadvisor.co.kr/Attraction_Revie...</td>\n",
       "      <td>DMZ: A sad reality</td>\n",
       "      <td>The longest tourist trip I decided to take dur...</td>\n",
       "    </tr>\n",
       "    <tr>\n",
       "      <th>4</th>\n",
       "      <td>5</td>\n",
       "      <td>2010-03</td>\n",
       "      <td>TRIPADVISOR_수원화성</td>\n",
       "      <td>https://www.tripadvisor.co.kr/Attraction_Revie...</td>\n",
       "      <td>世界遺産です。</td>\n",
       "      <td>水原の華城に行ってきました。 正直、世界遺産？って感じでしたが、歴史好きには良いと思います。...</td>\n",
       "    </tr>\n",
       "  </tbody>\n",
       "</table>\n",
       "</div>"
      ],
      "text/plain": [
       "   수집인덱스     기준년월               수집채널명  \\\n",
       "0      1  2010-02  TRIPADVISOR_고양 서오릉   \n",
       "1      2  2010-02    TRIPADVISOR_수원화성   \n",
       "2      3  2010-02    TRIPADVISOR_수원화성   \n",
       "3      4  2010-03     TRIPADVISOR_DMZ   \n",
       "4      5  2010-03    TRIPADVISOR_수원화성   \n",
       "\n",
       "                                               수집URL                     제목  \\\n",
       "0  https://www.tripadvisor.co.kr/Attraction_Revie...          一人で行くのは怖いかも・・   \n",
       "1  https://www.tripadvisor.co.kr/Attraction_Revie...             世界遺産に包まれた町   \n",
       "2  https://www.tripadvisor.co.kr/Attraction_Revie...  世界遺産。歴史ドラマが好きな人にはおススメ   \n",
       "3  https://www.tripadvisor.co.kr/Attraction_Revie...     DMZ: A sad reality   \n",
       "4  https://www.tripadvisor.co.kr/Attraction_Revie...                世界遺産です。   \n",
       "\n",
       "                                                  내용  \n",
       "0  2009年6月に新たに世界遺産に登録された獻陵と仁陵をみてきました。　  朝鮮王朝時代の国王...  \n",
       "1  世界遺産の水原の華城に行きました。水原の華城はとても広く、歩いて回るのは2-3時間はかかるの...  \n",
       "2  ソウル市内から地下鉄に乗って約１時間。 水原（スウォン）駅で下車。 駅近くに観光案内所があり...  \n",
       "3  The longest tourist trip I decided to take dur...  \n",
       "4  水原の華城に行ってきました。 正直、世界遺産？って感じでしたが、歴史好きには良いと思います。...  "
      ]
     },
     "execution_count": 4,
     "metadata": {},
     "output_type": "execute_result"
    }
   ],
   "source": [
    "df.head()"
   ]
  },
  {
   "cell_type": "code",
   "execution_count": 5,
   "id": "3fdf959d-33d7-4721-b87a-2dd4b08249b5",
   "metadata": {},
   "outputs": [
    {
     "data": {
      "text/html": [
       "<div>\n",
       "<style scoped>\n",
       "    .dataframe tbody tr th:only-of-type {\n",
       "        vertical-align: middle;\n",
       "    }\n",
       "\n",
       "    .dataframe tbody tr th {\n",
       "        vertical-align: top;\n",
       "    }\n",
       "\n",
       "    .dataframe thead th {\n",
       "        text-align: right;\n",
       "    }\n",
       "</style>\n",
       "<table border=\"1\" class=\"dataframe\">\n",
       "  <thead>\n",
       "    <tr style=\"text-align: right;\">\n",
       "      <th></th>\n",
       "      <th>수집인덱스</th>\n",
       "      <th>기준년월</th>\n",
       "      <th>수집채널명</th>\n",
       "      <th>수집URL</th>\n",
       "      <th>제목</th>\n",
       "      <th>내용</th>\n",
       "    </tr>\n",
       "  </thead>\n",
       "  <tbody>\n",
       "    <tr>\n",
       "      <th>14831</th>\n",
       "      <td>14832</td>\n",
       "      <td>2020-12</td>\n",
       "      <td>TRIPADVISOR_독산성</td>\n",
       "      <td>https://www.tripadvisor.co.kr/Attraction_Revie...</td>\n",
       "      <td>맑은 공기를 마시며 산책하기 좋은 산성</td>\n",
       "      <td>오산시에 있는 높은 산으로 산책하기 좋은 곳입니다. 운동시설이 마련되어 있어 현지 ...</td>\n",
       "    </tr>\n",
       "    <tr>\n",
       "      <th>14832</th>\n",
       "      <td>14833</td>\n",
       "      <td>2020-12</td>\n",
       "      <td>TRIPADVISOR_행궁동 공예마을</td>\n",
       "      <td>https://www.tripadvisor.co.kr/Attraction_Revie...</td>\n",
       "      <td>Street with handicraft shop and restaurant</td>\n",
       "      <td>CY ( 20.12.26 )  This street was located near ...</td>\n",
       "    </tr>\n",
       "    <tr>\n",
       "      <th>14833</th>\n",
       "      <td>14834</td>\n",
       "      <td>2020-12</td>\n",
       "      <td>TRIPADVISOR_파주개성인삼축제</td>\n",
       "      <td>https://www.tripadvisor.co.kr/Attraction_Revie...</td>\n",
       "      <td>Ginseng and many more. Well-prepared and much ...</td>\n",
       "      <td>Taking place in early October; this is a ginse...</td>\n",
       "    </tr>\n",
       "    <tr>\n",
       "      <th>14834</th>\n",
       "      <td>14835</td>\n",
       "      <td>2020-12</td>\n",
       "      <td>TRIPADVISOR_행궁동 벽화마을</td>\n",
       "      <td>https://www.tripadvisor.co.kr/Attraction_Revie...</td>\n",
       "      <td>Small Mural Village near Haenggung.</td>\n",
       "      <td>CY ( 20.12.26 ) This mural village was near Su...</td>\n",
       "    </tr>\n",
       "    <tr>\n",
       "      <th>14835</th>\n",
       "      <td>14836</td>\n",
       "      <td>2020-12</td>\n",
       "      <td>TRIPADVISOR_물향기수목원</td>\n",
       "      <td>https://www.tripadvisor.co.kr/Attraction_Revie...</td>\n",
       "      <td>경기 근교에서 즐길 수 있는 수목원</td>\n",
       "      <td>1. 제가 최근에 방문했을 때는 가을이었는데 입구 앞에 댑싸리가 아름답게 데코되어있...</td>\n",
       "    </tr>\n",
       "  </tbody>\n",
       "</table>\n",
       "</div>"
      ],
      "text/plain": [
       "       수집인덱스     기준년월                 수집채널명  \\\n",
       "14831  14832  2020-12       TRIPADVISOR_독산성   \n",
       "14832  14833  2020-12  TRIPADVISOR_행궁동 공예마을   \n",
       "14833  14834  2020-12  TRIPADVISOR_파주개성인삼축제   \n",
       "14834  14835  2020-12  TRIPADVISOR_행궁동 벽화마을   \n",
       "14835  14836  2020-12    TRIPADVISOR_물향기수목원   \n",
       "\n",
       "                                                   수집URL  \\\n",
       "14831  https://www.tripadvisor.co.kr/Attraction_Revie...   \n",
       "14832  https://www.tripadvisor.co.kr/Attraction_Revie...   \n",
       "14833  https://www.tripadvisor.co.kr/Attraction_Revie...   \n",
       "14834  https://www.tripadvisor.co.kr/Attraction_Revie...   \n",
       "14835  https://www.tripadvisor.co.kr/Attraction_Revie...   \n",
       "\n",
       "                                                      제목  \\\n",
       "14831                              맑은 공기를 마시며 산책하기 좋은 산성   \n",
       "14832         Street with handicraft shop and restaurant   \n",
       "14833  Ginseng and many more. Well-prepared and much ...   \n",
       "14834                Small Mural Village near Haenggung.   \n",
       "14835                                경기 근교에서 즐길 수 있는 수목원   \n",
       "\n",
       "                                                      내용  \n",
       "14831  오산시에 있는 높은 산으로 산책하기 좋은 곳입니다. 운동시설이 마련되어 있어 현지 ...  \n",
       "14832  CY ( 20.12.26 )  This street was located near ...  \n",
       "14833  Taking place in early October; this is a ginse...  \n",
       "14834  CY ( 20.12.26 ) This mural village was near Su...  \n",
       "14835  1. 제가 최근에 방문했을 때는 가을이었는데 입구 앞에 댑싸리가 아름답게 데코되어있...  "
      ]
     },
     "execution_count": 5,
     "metadata": {},
     "output_type": "execute_result"
    }
   ],
   "source": [
    "df.tail()"
   ]
  },
  {
   "cell_type": "markdown",
   "id": "c806ba66-857c-4338-b9b1-dee411cc835e",
   "metadata": {},
   "source": [
    "## 3) 데이터 전처리"
   ]
  },
  {
   "cell_type": "markdown",
   "id": "dc13e335-7253-4140-9428-e427110b155e",
   "metadata": {},
   "source": [
    "#### 3-1. '제목'에 한글만 포함된 행 추출하기\n",
    "- 한글로 된 리뷰만 분석하기 위함\n",
    "- '내용' 컬럼에 비해 비교적 텍스트가 적어 빠른 처리 가능"
   ]
  },
  {
   "cell_type": "code",
   "execution_count": 6,
   "id": "3f5f24c2-a3d1-4747-8e56-78153f4db088",
   "metadata": {},
   "outputs": [
    {
     "data": {
      "text/plain": [
       "re.compile(r'[^ㄱ-ㅎ가-힣 ]', re.UNICODE)"
      ]
     },
     "execution_count": 6,
     "metadata": {},
     "output_type": "execute_result"
    }
   ],
   "source": [
    "name_reg = re.compile(r'[^ㄱ-ㅎ가-힣 ]')\n",
    "name_reg"
   ]
  },
  {
   "cell_type": "code",
   "execution_count": 7,
   "id": "c212bcbe-b225-4db7-9452-4cae71ad5bc1",
   "metadata": {},
   "outputs": [
    {
     "data": {
      "text/plain": [
       "<re.Match object; span=(0, 1), match='一'>"
      ]
     },
     "execution_count": 7,
     "metadata": {},
     "output_type": "execute_result"
    }
   ],
   "source": [
    "name_reg.search(df['제목'].loc[0])"
   ]
  },
  {
   "cell_type": "code",
   "execution_count": 8,
   "id": "dbf765ff-bd25-4651-b193-a5b846954a29",
   "metadata": {},
   "outputs": [
    {
     "data": {
      "text/plain": [
       "False"
      ]
     },
     "execution_count": 8,
     "metadata": {},
     "output_type": "execute_result"
    }
   ],
   "source": [
    "name_reg.search(df['제목'].loc[0]) == None"
   ]
  },
  {
   "cell_type": "code",
   "execution_count": 9,
   "id": "197598d5-0e49-44cf-a19a-2840fcb08315",
   "metadata": {},
   "outputs": [],
   "source": [
    "def check_name(name):\n",
    "    name_reg = re.compile(r'[^ㄱ-ㅎ가-힣 ]') # 한글과 공백\n",
    "    name_reg_bool = name_reg.search(name) == None\n",
    "    return name_reg_bool"
   ]
  },
  {
   "cell_type": "code",
   "execution_count": 10,
   "id": "ef8a88be-7682-4833-8940-622543f774a8",
   "metadata": {},
   "outputs": [
    {
     "name": "stdout",
     "output_type": "stream",
     "text": [
      "9312\n"
     ]
    },
    {
     "data": {
      "text/plain": [
       "0        False\n",
       "1        False\n",
       "2        False\n",
       "3        False\n",
       "4        False\n",
       "         ...  \n",
       "14831     True\n",
       "14832    False\n",
       "14833    False\n",
       "14834    False\n",
       "14835     True\n",
       "Name: 제목, Length: 14836, dtype: bool"
      ]
     },
     "execution_count": 10,
     "metadata": {},
     "output_type": "execute_result"
    }
   ],
   "source": [
    "name_reg_cond = df['제목'].apply(check_name)\n",
    "print(len(name_reg_cond) - name_reg_cond.sum())\n",
    "name_reg_cond"
   ]
  },
  {
   "cell_type": "code",
   "execution_count": 11,
   "id": "3262fd3d-8962-4ef7-b874-dd00bc829254",
   "metadata": {},
   "outputs": [
    {
     "name": "stdout",
     "output_type": "stream",
     "text": [
      "(5524, 6)\n"
     ]
    },
    {
     "data": {
      "text/html": [
       "<div>\n",
       "<style scoped>\n",
       "    .dataframe tbody tr th:only-of-type {\n",
       "        vertical-align: middle;\n",
       "    }\n",
       "\n",
       "    .dataframe tbody tr th {\n",
       "        vertical-align: top;\n",
       "    }\n",
       "\n",
       "    .dataframe thead th {\n",
       "        text-align: right;\n",
       "    }\n",
       "</style>\n",
       "<table border=\"1\" class=\"dataframe\">\n",
       "  <thead>\n",
       "    <tr style=\"text-align: right;\">\n",
       "      <th></th>\n",
       "      <th>수집인덱스</th>\n",
       "      <th>기준년월</th>\n",
       "      <th>수집채널명</th>\n",
       "      <th>수집URL</th>\n",
       "      <th>제목</th>\n",
       "      <th>내용</th>\n",
       "    </tr>\n",
       "  </thead>\n",
       "  <tbody>\n",
       "    <tr>\n",
       "      <th>0</th>\n",
       "      <td>34</td>\n",
       "      <td>2010-09</td>\n",
       "      <td>TRIPADVISOR_영은미술관</td>\n",
       "      <td>https://www.tripadvisor.co.kr/Attraction_Revie...</td>\n",
       "      <td>미술 교육의 영은 미술관</td>\n",
       "      <td>아동에 대한 실험적인 프로그램을 많이 전개하고 있는 박물관이고; 가족 단위로 보러 ...</td>\n",
       "    </tr>\n",
       "    <tr>\n",
       "      <th>1</th>\n",
       "      <td>46</td>\n",
       "      <td>2010-10</td>\n",
       "      <td>TRIPADVISOR_한국민속촌</td>\n",
       "      <td>https://www.tripadvisor.co.kr/Attraction_Revie...</td>\n",
       "      <td>경치가매우훌륭했습니다</td>\n",
       "      <td>계속걷고 지루할거라고생각했는데 전혀아니더군요.  생각보다너무너무 재밌고뜻깊게 하루를...</td>\n",
       "    </tr>\n",
       "    <tr>\n",
       "      <th>2</th>\n",
       "      <td>202</td>\n",
       "      <td>2011-12</td>\n",
       "      <td>TRIPADVISOR_일산 호수 공원</td>\n",
       "      <td>https://www.tripadvisor.co.kr/Attraction_Revie...</td>\n",
       "      <td>일산호수공원에서 늦가을 만끽하기</td>\n",
       "      <td>일산 호수공원은 커플끼리 산책하기 참 좋은 곳이다.  자전거가 있다면 자전거를 타면...</td>\n",
       "    </tr>\n",
       "    <tr>\n",
       "      <th>3</th>\n",
       "      <td>262</td>\n",
       "      <td>2012-03</td>\n",
       "      <td>TRIPADVISOR_수원화성</td>\n",
       "      <td>https://www.tripadvisor.co.kr/Attraction_Revie...</td>\n",
       "      <td>정조의 천도 예정지</td>\n",
       "      <td>역사를 돌아보며 느낄 수있는 곳으로 아름답고 조용하다. 조선 정조대왕의 천도의 의지...</td>\n",
       "    </tr>\n",
       "    <tr>\n",
       "      <th>4</th>\n",
       "      <td>604</td>\n",
       "      <td>2013-01</td>\n",
       "      <td>TRIPADVISOR_아인스월드</td>\n",
       "      <td>https://www.tripadvisor.co.kr/Attraction_Revie...</td>\n",
       "      <td>미니어처로 세계여행</td>\n",
       "      <td>아인스월드는 세계각국의 관광 명소를 미니어처로하여 공원을 한바퀴를 돌면 외국에 나가...</td>\n",
       "    </tr>\n",
       "  </tbody>\n",
       "</table>\n",
       "</div>"
      ],
      "text/plain": [
       "   수집인덱스     기준년월                 수집채널명  \\\n",
       "0     34  2010-09     TRIPADVISOR_영은미술관   \n",
       "1     46  2010-10     TRIPADVISOR_한국민속촌   \n",
       "2    202  2011-12  TRIPADVISOR_일산 호수 공원   \n",
       "3    262  2012-03      TRIPADVISOR_수원화성   \n",
       "4    604  2013-01     TRIPADVISOR_아인스월드   \n",
       "\n",
       "                                               수집URL                 제목  \\\n",
       "0  https://www.tripadvisor.co.kr/Attraction_Revie...      미술 교육의 영은 미술관   \n",
       "1  https://www.tripadvisor.co.kr/Attraction_Revie...        경치가매우훌륭했습니다   \n",
       "2  https://www.tripadvisor.co.kr/Attraction_Revie...  일산호수공원에서 늦가을 만끽하기   \n",
       "3  https://www.tripadvisor.co.kr/Attraction_Revie...         정조의 천도 예정지   \n",
       "4  https://www.tripadvisor.co.kr/Attraction_Revie...         미니어처로 세계여행   \n",
       "\n",
       "                                                  내용  \n",
       "0  아동에 대한 실험적인 프로그램을 많이 전개하고 있는 박물관이고; 가족 단위로 보러 ...  \n",
       "1  계속걷고 지루할거라고생각했는데 전혀아니더군요.  생각보다너무너무 재밌고뜻깊게 하루를...  \n",
       "2  일산 호수공원은 커플끼리 산책하기 참 좋은 곳이다.  자전거가 있다면 자전거를 타면...  \n",
       "3  역사를 돌아보며 느낄 수있는 곳으로 아름답고 조용하다. 조선 정조대왕의 천도의 의지...  \n",
       "4  아인스월드는 세계각국의 관광 명소를 미니어처로하여 공원을 한바퀴를 돌면 외국에 나가...  "
      ]
     },
     "execution_count": 11,
     "metadata": {},
     "output_type": "execute_result"
    }
   ],
   "source": [
    "df_new = df[name_reg_cond].reset_index(drop=True)\n",
    "print(df_new.shape)\n",
    "df_new.head()"
   ]
  },
  {
   "cell_type": "markdown",
   "id": "4fcd85c3-1cea-46d8-abfd-639fa4256ca5",
   "metadata": {},
   "source": [
    "#### 3-2. 필요한 컬럼 선별\n",
    "- 컬럼명: '수집채널명', '내용'"
   ]
  },
  {
   "cell_type": "code",
   "execution_count": 12,
   "id": "2ceeb9fd-4ae8-4197-a11c-92ee7ac62133",
   "metadata": {},
   "outputs": [
    {
     "data": {
      "text/html": [
       "<div>\n",
       "<style scoped>\n",
       "    .dataframe tbody tr th:only-of-type {\n",
       "        vertical-align: middle;\n",
       "    }\n",
       "\n",
       "    .dataframe tbody tr th {\n",
       "        vertical-align: top;\n",
       "    }\n",
       "\n",
       "    .dataframe thead th {\n",
       "        text-align: right;\n",
       "    }\n",
       "</style>\n",
       "<table border=\"1\" class=\"dataframe\">\n",
       "  <thead>\n",
       "    <tr style=\"text-align: right;\">\n",
       "      <th></th>\n",
       "      <th>수집채널명</th>\n",
       "      <th>내용</th>\n",
       "    </tr>\n",
       "  </thead>\n",
       "  <tbody>\n",
       "    <tr>\n",
       "      <th>0</th>\n",
       "      <td>TRIPADVISOR_영은미술관</td>\n",
       "      <td>아동에 대한 실험적인 프로그램을 많이 전개하고 있는 박물관이고; 가족 단위로 보러 ...</td>\n",
       "    </tr>\n",
       "    <tr>\n",
       "      <th>1</th>\n",
       "      <td>TRIPADVISOR_한국민속촌</td>\n",
       "      <td>계속걷고 지루할거라고생각했는데 전혀아니더군요.  생각보다너무너무 재밌고뜻깊게 하루를...</td>\n",
       "    </tr>\n",
       "    <tr>\n",
       "      <th>2</th>\n",
       "      <td>TRIPADVISOR_일산 호수 공원</td>\n",
       "      <td>일산 호수공원은 커플끼리 산책하기 참 좋은 곳이다.  자전거가 있다면 자전거를 타면...</td>\n",
       "    </tr>\n",
       "    <tr>\n",
       "      <th>3</th>\n",
       "      <td>TRIPADVISOR_수원화성</td>\n",
       "      <td>역사를 돌아보며 느낄 수있는 곳으로 아름답고 조용하다. 조선 정조대왕의 천도의 의지...</td>\n",
       "    </tr>\n",
       "    <tr>\n",
       "      <th>4</th>\n",
       "      <td>TRIPADVISOR_아인스월드</td>\n",
       "      <td>아인스월드는 세계각국의 관광 명소를 미니어처로하여 공원을 한바퀴를 돌면 외국에 나가...</td>\n",
       "    </tr>\n",
       "  </tbody>\n",
       "</table>\n",
       "</div>"
      ],
      "text/plain": [
       "                  수집채널명                                                 내용\n",
       "0     TRIPADVISOR_영은미술관  아동에 대한 실험적인 프로그램을 많이 전개하고 있는 박물관이고; 가족 단위로 보러 ...\n",
       "1     TRIPADVISOR_한국민속촌  계속걷고 지루할거라고생각했는데 전혀아니더군요.  생각보다너무너무 재밌고뜻깊게 하루를...\n",
       "2  TRIPADVISOR_일산 호수 공원  일산 호수공원은 커플끼리 산책하기 참 좋은 곳이다.  자전거가 있다면 자전거를 타면...\n",
       "3      TRIPADVISOR_수원화성  역사를 돌아보며 느낄 수있는 곳으로 아름답고 조용하다. 조선 정조대왕의 천도의 의지...\n",
       "4     TRIPADVISOR_아인스월드  아인스월드는 세계각국의 관광 명소를 미니어처로하여 공원을 한바퀴를 돌면 외국에 나가..."
      ]
     },
     "execution_count": 12,
     "metadata": {},
     "output_type": "execute_result"
    }
   ],
   "source": [
    "df_new = df_new[['수집채널명', '내용']]\n",
    "df_new.head()"
   ]
  },
  {
   "cell_type": "markdown",
   "id": "e6e1077e-8da2-4064-8580-5ad00fc673df",
   "metadata": {},
   "source": [
    "#### 3-3. '수집채널명' 컬럼 \"TRIPADVISOR_\" 제거하기"
   ]
  },
  {
   "cell_type": "code",
   "execution_count": 13,
   "id": "362e73e7-d267-40e0-8708-cbb3f4da3364",
   "metadata": {},
   "outputs": [],
   "source": [
    "def del_text(channel):\n",
    "    channel = channel.replace('TRIPADVISOR_', '')\n",
    "    return channel"
   ]
  },
  {
   "cell_type": "code",
   "execution_count": 14,
   "id": "6a30698d-dad3-4c99-80c7-72b97c6158e8",
   "metadata": {},
   "outputs": [
    {
     "data": {
      "text/html": [
       "<div>\n",
       "<style scoped>\n",
       "    .dataframe tbody tr th:only-of-type {\n",
       "        vertical-align: middle;\n",
       "    }\n",
       "\n",
       "    .dataframe tbody tr th {\n",
       "        vertical-align: top;\n",
       "    }\n",
       "\n",
       "    .dataframe thead th {\n",
       "        text-align: right;\n",
       "    }\n",
       "</style>\n",
       "<table border=\"1\" class=\"dataframe\">\n",
       "  <thead>\n",
       "    <tr style=\"text-align: right;\">\n",
       "      <th></th>\n",
       "      <th>수집채널명</th>\n",
       "      <th>내용</th>\n",
       "    </tr>\n",
       "  </thead>\n",
       "  <tbody>\n",
       "    <tr>\n",
       "      <th>0</th>\n",
       "      <td>영은미술관</td>\n",
       "      <td>아동에 대한 실험적인 프로그램을 많이 전개하고 있는 박물관이고; 가족 단위로 보러 ...</td>\n",
       "    </tr>\n",
       "    <tr>\n",
       "      <th>1</th>\n",
       "      <td>한국민속촌</td>\n",
       "      <td>계속걷고 지루할거라고생각했는데 전혀아니더군요.  생각보다너무너무 재밌고뜻깊게 하루를...</td>\n",
       "    </tr>\n",
       "    <tr>\n",
       "      <th>2</th>\n",
       "      <td>일산 호수 공원</td>\n",
       "      <td>일산 호수공원은 커플끼리 산책하기 참 좋은 곳이다.  자전거가 있다면 자전거를 타면...</td>\n",
       "    </tr>\n",
       "    <tr>\n",
       "      <th>3</th>\n",
       "      <td>수원화성</td>\n",
       "      <td>역사를 돌아보며 느낄 수있는 곳으로 아름답고 조용하다. 조선 정조대왕의 천도의 의지...</td>\n",
       "    </tr>\n",
       "    <tr>\n",
       "      <th>4</th>\n",
       "      <td>아인스월드</td>\n",
       "      <td>아인스월드는 세계각국의 관광 명소를 미니어처로하여 공원을 한바퀴를 돌면 외국에 나가...</td>\n",
       "    </tr>\n",
       "  </tbody>\n",
       "</table>\n",
       "</div>"
      ],
      "text/plain": [
       "      수집채널명                                                 내용\n",
       "0     영은미술관  아동에 대한 실험적인 프로그램을 많이 전개하고 있는 박물관이고; 가족 단위로 보러 ...\n",
       "1     한국민속촌  계속걷고 지루할거라고생각했는데 전혀아니더군요.  생각보다너무너무 재밌고뜻깊게 하루를...\n",
       "2  일산 호수 공원  일산 호수공원은 커플끼리 산책하기 참 좋은 곳이다.  자전거가 있다면 자전거를 타면...\n",
       "3      수원화성  역사를 돌아보며 느낄 수있는 곳으로 아름답고 조용하다. 조선 정조대왕의 천도의 의지...\n",
       "4     아인스월드  아인스월드는 세계각국의 관광 명소를 미니어처로하여 공원을 한바퀴를 돌면 외국에 나가..."
      ]
     },
     "execution_count": 14,
     "metadata": {},
     "output_type": "execute_result"
    }
   ],
   "source": [
    "df_new['수집채널명'] = df_new['수집채널명'].apply(del_text)\n",
    "df_new.head()"
   ]
  },
  {
   "cell_type": "markdown",
   "id": "3c597f78-3ffa-465a-aadd-3c3e66f899ed",
   "metadata": {},
   "source": [
    "#### 3-4. '내용' 컬럼 특수문자, 숫자 제거"
   ]
  },
  {
   "cell_type": "code",
   "execution_count": 15,
   "id": "2e0d4d19-876b-4f5b-9c94-9429fec3a587",
   "metadata": {},
   "outputs": [],
   "source": [
    "def del_etc(content):\n",
    "    content = re.sub(r'[^ㄱ-ㅎ가-힣 ]', '', content)\n",
    "    return content"
   ]
  },
  {
   "cell_type": "code",
   "execution_count": 16,
   "id": "c2051dc6-ac67-4b26-a90f-6b6b5addb6e8",
   "metadata": {},
   "outputs": [
    {
     "data": {
      "text/html": [
       "<div>\n",
       "<style scoped>\n",
       "    .dataframe tbody tr th:only-of-type {\n",
       "        vertical-align: middle;\n",
       "    }\n",
       "\n",
       "    .dataframe tbody tr th {\n",
       "        vertical-align: top;\n",
       "    }\n",
       "\n",
       "    .dataframe thead th {\n",
       "        text-align: right;\n",
       "    }\n",
       "</style>\n",
       "<table border=\"1\" class=\"dataframe\">\n",
       "  <thead>\n",
       "    <tr style=\"text-align: right;\">\n",
       "      <th></th>\n",
       "      <th>수집채널명</th>\n",
       "      <th>내용</th>\n",
       "    </tr>\n",
       "  </thead>\n",
       "  <tbody>\n",
       "    <tr>\n",
       "      <th>0</th>\n",
       "      <td>영은미술관</td>\n",
       "      <td>아동에 대한 실험적인 프로그램을 많이 전개하고 있는 박물관이고 가족 단위로 보러 와...</td>\n",
       "    </tr>\n",
       "    <tr>\n",
       "      <th>1</th>\n",
       "      <td>한국민속촌</td>\n",
       "      <td>계속걷고 지루할거라고생각했는데 전혀아니더군요  생각보다너무너무 재밌고뜻깊게 하루를보...</td>\n",
       "    </tr>\n",
       "    <tr>\n",
       "      <th>2</th>\n",
       "      <td>일산 호수 공원</td>\n",
       "      <td>일산 호수공원은 커플끼리 산책하기 참 좋은 곳이다  자전거가 있다면 자전거를 타면 ...</td>\n",
       "    </tr>\n",
       "    <tr>\n",
       "      <th>3</th>\n",
       "      <td>수원화성</td>\n",
       "      <td>역사를 돌아보며 느낄 수있는 곳으로 아름답고 조용하다 조선 정조대왕의 천도의 의지를...</td>\n",
       "    </tr>\n",
       "    <tr>\n",
       "      <th>4</th>\n",
       "      <td>아인스월드</td>\n",
       "      <td>아인스월드는 세계각국의 관광 명소를 미니어처로하여 공원을 한바퀴를 돌면 외국에 나가...</td>\n",
       "    </tr>\n",
       "  </tbody>\n",
       "</table>\n",
       "</div>"
      ],
      "text/plain": [
       "      수집채널명                                                 내용\n",
       "0     영은미술관  아동에 대한 실험적인 프로그램을 많이 전개하고 있는 박물관이고 가족 단위로 보러 와...\n",
       "1     한국민속촌  계속걷고 지루할거라고생각했는데 전혀아니더군요  생각보다너무너무 재밌고뜻깊게 하루를보...\n",
       "2  일산 호수 공원  일산 호수공원은 커플끼리 산책하기 참 좋은 곳이다  자전거가 있다면 자전거를 타면 ...\n",
       "3      수원화성  역사를 돌아보며 느낄 수있는 곳으로 아름답고 조용하다 조선 정조대왕의 천도의 의지를...\n",
       "4     아인스월드  아인스월드는 세계각국의 관광 명소를 미니어처로하여 공원을 한바퀴를 돌면 외국에 나가..."
      ]
     },
     "execution_count": 16,
     "metadata": {},
     "output_type": "execute_result"
    }
   ],
   "source": [
    "df_new['내용'] = df_new['내용'].apply(del_etc)\n",
    "df_new.head()"
   ]
  },
  {
   "cell_type": "markdown",
   "id": "e57ccb53-aeb7-40da-90e1-9f6bb82d5e5f",
   "metadata": {},
   "source": [
    "#### 3-5. '수집채널명' 그룹화 및 '내용' 문자열 합치기"
   ]
  },
  {
   "cell_type": "code",
   "execution_count": 34,
   "id": "79b672b7-d63f-4c77-aba9-3a9353f236fe",
   "metadata": {},
   "outputs": [],
   "source": [
    "df_sum = df_new.groupby('수집채널명')['내용'].apply(lambda x: x.sum())\n",
    "\n",
    "# 데이터프레임으로 만들기(df_sum 시리즈 타입)\n",
    "df_sum = df_sum.to_frame()\n",
    "\n",
    "# 인덱스 재설정\n",
    "df_sum = df_sum.reset_index()"
   ]
  },
  {
   "cell_type": "code",
   "execution_count": 35,
   "id": "7a5cbb56-7a1e-4e30-a27c-cab357d78598",
   "metadata": {},
   "outputs": [
    {
     "data": {
      "text/html": [
       "<div>\n",
       "<style scoped>\n",
       "    .dataframe tbody tr th:only-of-type {\n",
       "        vertical-align: middle;\n",
       "    }\n",
       "\n",
       "    .dataframe tbody tr th {\n",
       "        vertical-align: top;\n",
       "    }\n",
       "\n",
       "    .dataframe thead th {\n",
       "        text-align: right;\n",
       "    }\n",
       "</style>\n",
       "<table border=\"1\" class=\"dataframe\">\n",
       "  <thead>\n",
       "    <tr style=\"text-align: right;\">\n",
       "      <th></th>\n",
       "      <th>수집채널명</th>\n",
       "      <th>내용</th>\n",
       "    </tr>\n",
       "  </thead>\n",
       "  <tbody>\n",
       "    <tr>\n",
       "      <th>0</th>\n",
       "      <td>5.18 Archives</td>\n",
       "      <td>사실 광주는 트립어드바이져에는 왜 경기도 광주로 표시 되는지 알 수 없지만 제목에서...</td>\n",
       "    </tr>\n",
       "    <tr>\n",
       "      <th>1</th>\n",
       "      <td>DMZ</td>\n",
       "      <td>놀라운 할 이 나라들은 여전히 전쟁 이 곳은 북한 체제의 현실을 파악 관리함으로써 ...</td>\n",
       "    </tr>\n",
       "    <tr>\n",
       "      <th>2</th>\n",
       "      <td>Dae Jang Geum Theme Park</td>\n",
       "      <td>에게 정말 많은 것을 즐기고 놀러 식사 쿠폰은 그냥 기본 수준 완전 머물기에 필요한...</td>\n",
       "    </tr>\n",
       "    <tr>\n",
       "      <th>3</th>\n",
       "      <td>First Garden</td>\n",
       "      <td>커다란 정원에 조형물과 놀이공원이 있는 곳입니다 런닝맨이나 각종 드라마 촬영지이기도...</td>\n",
       "    </tr>\n",
       "    <tr>\n",
       "      <th>4</th>\n",
       "      <td>Gift_accessory #</td>\n",
       "      <td>연인과 커플에게 추천합니다 합리적인 가격과 잘 디자인 된 목걸이와 팔찌  부천 근처...</td>\n",
       "    </tr>\n",
       "  </tbody>\n",
       "</table>\n",
       "</div>"
      ],
      "text/plain": [
       "                      수집채널명                                                 내용\n",
       "0             5.18 Archives  사실 광주는 트립어드바이져에는 왜 경기도 광주로 표시 되는지 알 수 없지만 제목에서...\n",
       "1                       DMZ  놀라운 할 이 나라들은 여전히 전쟁 이 곳은 북한 체제의 현실을 파악 관리함으로써 ...\n",
       "2  Dae Jang Geum Theme Park  에게 정말 많은 것을 즐기고 놀러 식사 쿠폰은 그냥 기본 수준 완전 머물기에 필요한...\n",
       "3              First Garden  커다란 정원에 조형물과 놀이공원이 있는 곳입니다 런닝맨이나 각종 드라마 촬영지이기도...\n",
       "4          Gift_accessory #  연인과 커플에게 추천합니다 합리적인 가격과 잘 디자인 된 목걸이와 팔찌  부천 근처..."
      ]
     },
     "execution_count": 35,
     "metadata": {},
     "output_type": "execute_result"
    }
   ],
   "source": [
    "df_sum.head()"
   ]
  },
  {
   "cell_type": "markdown",
   "id": "dfca6030-4cc5-4ee3-b8f7-61b4cc3954a7",
   "metadata": {},
   "source": [
    "## 4) 1차 전처리 된 데이터 저장(csv)"
   ]
  },
  {
   "cell_type": "code",
   "execution_count": 56,
   "id": "bbc512f6-b3f7-4fb0-961a-c43b8774b47c",
   "metadata": {},
   "outputs": [],
   "source": [
    "df_sum.to_csv('Datasets/01_Preprocessing.csv', encoding='UTF-8')"
   ]
  }
 ],
 "metadata": {
  "kernelspec": {
   "display_name": "Python 3 (ipykernel)",
   "language": "python",
   "name": "python3"
  },
  "language_info": {
   "codemirror_mode": {
    "name": "ipython",
    "version": 3
   },
   "file_extension": ".py",
   "mimetype": "text/x-python",
   "name": "python",
   "nbconvert_exporter": "python",
   "pygments_lexer": "ipython3",
   "version": "3.8.12"
  }
 },
 "nbformat": 4,
 "nbformat_minor": 5
}
