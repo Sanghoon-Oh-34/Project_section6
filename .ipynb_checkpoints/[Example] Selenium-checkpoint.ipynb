{
 "cells": [
  {
   "cell_type": "code",
   "execution_count": 28,
   "id": "02c9fe98-f366-4624-aa2a-fa4c9e23914f",
   "metadata": {},
   "outputs": [],
   "source": [
    "from selenium import webdriver\n",
    "from selenium.webdriver.common.keys import Keys"
   ]
  },
  {
   "cell_type": "code",
   "execution_count": 29,
   "id": "f7613712-7958-4904-91c5-32d1c21c3d41",
   "metadata": {},
   "outputs": [],
   "source": [
    "path = \"Download\\chromedriver_win32\\chromedriver.exe\" # 상대경로로 입력\n",
    "\n",
    "driver = webdriver.Chrome(path)"
   ]
  },
  {
   "cell_type": "code",
   "execution_count": 30,
   "id": "b9baa53e-c2d4-4455-89e2-2db9403374f5",
   "metadata": {},
   "outputs": [],
   "source": [
    "driver.get('http://www.etoland.co.kr/')"
   ]
  },
  {
   "cell_type": "code",
   "execution_count": 31,
   "id": "b6846c40-d98c-431e-83a3-bd4380c0f56d",
   "metadata": {},
   "outputs": [
    {
     "ename": "AssertionError",
     "evalue": "",
     "output_type": "error",
     "traceback": [
      "\u001b[1;31m---------------------------------------------------------------------------\u001b[0m",
      "\u001b[1;31mAssertionError\u001b[0m                            Traceback (most recent call last)",
      "\u001b[1;32mC:\\Users\\SANGHO~1\\AppData\\Local\\Temp/ipykernel_19528/4183797556.py\u001b[0m in \u001b[0;36m<module>\u001b[1;34m\u001b[0m\n\u001b[1;32m----> 1\u001b[1;33m \u001b[1;32massert\u001b[0m \u001b[1;34m'Google'\u001b[0m \u001b[1;32min\u001b[0m \u001b[0mdriver\u001b[0m\u001b[1;33m.\u001b[0m\u001b[0mtitle\u001b[0m \u001b[1;31m# Google에 제대로 접속했는지 확인\u001b[0m\u001b[1;33m\u001b[0m\u001b[1;33m\u001b[0m\u001b[0m\n\u001b[0m",
      "\u001b[1;31mAssertionError\u001b[0m: "
     ]
    }
   ],
   "source": [
    "assert 'Google' in driver.title # Google에 제대로 접속했는지 확인"
   ]
  },
  {
   "cell_type": "code",
   "execution_count": 32,
   "id": "6882ab9a-d052-4c70-8334-821743318c76",
   "metadata": {},
   "outputs": [],
   "source": [
    "elem = driver.find_element_by_name('mb_id')"
   ]
  },
  {
   "cell_type": "code",
   "execution_count": 48,
   "id": "f90f07e6-af47-41b9-a1a7-8b65a83f8441",
   "metadata": {},
   "outputs": [],
   "source": [
    "elem.clear() # 값 비우기"
   ]
  },
  {
   "cell_type": "code",
   "execution_count": 49,
   "id": "6eb27353-bff2-41c9-9878-c58a6d9bda71",
   "metadata": {},
   "outputs": [],
   "source": [
    "elem.send_keys('osh0708', Keys.TAB) # 검색어 입력"
   ]
  },
  {
   "cell_type": "code",
   "execution_count": 47,
   "id": "f6ba6b35-3b0b-46c2-8cc1-6127d011552d",
   "metadata": {},
   "outputs": [],
   "source": [
    "elem.send_keys(Keys.TAB)"
   ]
  },
  {
   "cell_type": "code",
   "execution_count": 50,
   "id": "8459f83b-f167-4fa8-8830-4506785e1fce",
   "metadata": {},
   "outputs": [],
   "source": [
    "pw = driver.find_element_by_name('mb_password')\n",
    "pw.clear()\n",
    "pw.send_keys('tkdgnsl')"
   ]
  },
  {
   "cell_type": "code",
   "execution_count": 51,
   "id": "84bde653-5dde-418b-9460-c7d8eed01539",
   "metadata": {},
   "outputs": [],
   "source": [
    "pw.submit() # 검색 실행"
   ]
  },
  {
   "cell_type": "code",
   "execution_count": 55,
   "id": "79a7e59d-e95f-4974-b14b-f4dd2589f412",
   "metadata": {},
   "outputs": [],
   "source": [
    "driver.forward()"
   ]
  },
  {
   "cell_type": "code",
   "execution_count": 56,
   "id": "3d594423-a9e9-4f74-867f-f517896d9c4f",
   "metadata": {},
   "outputs": [],
   "source": [
    "driver.close()"
   ]
  }
 ],
 "metadata": {
  "kernelspec": {
   "display_name": "Python 3 (ipykernel)",
   "language": "python",
   "name": "python3"
  },
  "language_info": {
   "codemirror_mode": {
    "name": "ipython",
    "version": 3
   },
   "file_extension": ".py",
   "mimetype": "text/x-python",
   "name": "python",
   "nbconvert_exporter": "python",
   "pygments_lexer": "ipython3",
   "version": "3.8.11"
  }
 },
 "nbformat": 4,
 "nbformat_minor": 5
}
